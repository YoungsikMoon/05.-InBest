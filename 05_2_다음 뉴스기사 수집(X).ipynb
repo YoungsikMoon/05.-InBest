{
 "cells": [
  {
   "cell_type": "markdown",
   "metadata": {},
   "source": [
    "# 다음 셀레니움으로 뉴스 데이터 수집"
   ]
  },
  {
   "cell_type": "markdown",
   "metadata": {},
   "source": [
    "검색어 : 종목코드 상한가\n",
    "\n",
    "옵션 : 날짜, 오래된순"
   ]
  },
  {
   "cell_type": "markdown",
   "metadata": {},
   "source": [
    "문영식의 무적의 크롤링 코드 완성!"
   ]
  },
  {
   "cell_type": "code",
   "execution_count": null,
   "metadata": {},
   "outputs": [],
   "source": [
    "# 스크롤 내리는 기능 입니다.\n",
    "# actions = driver.find_element(By.CSS_SELECTOR, 'body') \n",
    "# for i in range(0): #스크롤 내릴 횟수 설정\n",
    "#     actions.send_keys(Keys.END)\n",
    "#     time.sleep(2)\n",
    "\n",
    "# 크롬을 통해 크롤링 하기 위해 웹 드라이버 import\n",
    "from selenium import webdriver\n",
    "\n",
    "# 구글 드라이버 자동설치\n",
    "from selenium.webdriver.chrome.service import Service\n",
    "from selenium.webdriver.chrome.options import Options\n",
    "from webdriver_manager.chrome import ChromeDriverManager\n",
    "\n",
    "# 요소 찾을 때 사용하는 By 모듈\n",
    "from selenium.webdriver.common.by import By\n",
    "\n",
    "# selenium으로 키를 조작하기 위한 import\n",
    "from selenium.webdriver.common.keys import Keys\n",
    "\n",
    "# 페이지 렌더링 될 때까지 기다리게 하려고 쓰는 time 함수\n",
    "import time\n",
    "import random\n",
    "t1 = random.uniform(1,3) # 1~3초 사이\n",
    "t2 = random.uniform(3,5) # 2~5초 사이\n",
    "t3 = random.uniform(5,8) # 5~8초 사이\n",
    "\n",
    "# 브라우저 컨트롤 통신 관련하여 설정하려고 쓰는 모듈\n",
    "import ssl\n",
    "\n",
    "# 데이터 프레임 만들려고\n",
    "import pandas as pd\n",
    "\n",
    "# 브라우저 컨트롤할때 반영할 옵션들\n",
    "# options = Options()\n",
    "options = webdriver.ChromeOptions()\n",
    "options.add_argument(\"--start-maximized\")\n",
    "options.add_experimental_option(\"detach\", True)\n",
    "# 봇 탐지 방어 코드..\n",
    "options.add_argument(\"--disable-blink-features=AutomationControlled\")\n",
    "# 크롤링 창 사이즈 고정\n",
    "options.add_argument(\"window-size=1920x1080\")\n",
    "# 원래 셀레니움은 창이 뜨는 상태로 크롤링됨, 하지만 headless 옵션을 추가하면 창이 안떠도 암묵적으로 크롤링이 된다.\n",
    "# options.add_argument(\"headless\")\n",
    "\n",
    "# 창 크기 최대화\n",
    "# driver.maximize_window()\n",
    "\n",
    "# ssl 인증서 검증을 비활성화, 가끔 셀레니움으로 켯을 때 사이트 자체에서 ssl 인증을 허가 하지 않는 접속을 막아버린다.\n",
    "ssl._create_default_https_context = ssl._create_unverified_context\n",
    "\n",
    "# 브라우저를 컨트롤 할 드라이버 객체를 선언, 원래는 크롬드라이버가 설치되어야 하지만, 아래 문구로 엄청 쉽게 사용할 수 있다.\n",
    "driver = webdriver.Chrome(service=Service(ChromeDriverManager().install()), options=options)\n",
    "\n",
    "# 페이지 3초동안 로드될때까지 기다림, 안켜지면 오류 발생시킴 암묵적 wait\n",
    "driver.implicitly_wait(10)\n",
    "\n",
    "\"\"\" # 주소창 접속\n",
    "driver.get(\"https://www.daum.net/\")\n",
    "time.sleep(t1)\n",
    "\n",
    "# 종목 검색\n",
    "driver.find_element(By.XPATH, '//*[@id=\"q\"]').send_keys(keyword)\n",
    "time.sleep(t1)\n",
    "\n",
    "# 검색 버튼 클릭\n",
    "driver.find_element(By.XPATH, '//*[@id=\"daumSearch\"]/fieldset/div/div/button[3]').click()\n",
    "time.sleep(t1)\n",
    "\n",
    "# 뉴스탭 들어가기\n",
    "driver.find_element(By.XPATH, '//*[@id=\"daumGnb\"]/div[1]/ul/li[2]/a').click()\n",
    "time.sleep(t1)\n",
    "\"\"\"\n",
    "\n",
    "# 상한가 CSV 파일 읽기\n",
    "sanghanga_df = pd.read_csv('./datas/final_sanghanga_df.csv')\n",
    "\n",
    "# 종목 셋팅\n",
    "# keyword = input('검색할 종목명을 입력하세요: ')\n",
    "# goodday = input('상한가 도달한 날짜를 입력하세요: YYYYMMNN')\n",
    "names = sanghanga_df['종목명']\n",
    "sanghanga_df['종목코드'] = sanghanga_df['종목코드'].apply(lambda x: '{:06d}'.format(x)) # 자릿수 유지\n",
    "keywords = sanghanga_df['종목코드']\n",
    "gooddays = sanghanga_df['날짜']\n",
    "labels = sanghanga_df['라벨'] # 상한가 날 이후 10일 동안 최대 20% 상승 했는지 아닌지 [0: 추가 상승 없음, 1: 추가 상승 있음]\n",
    "\n",
    "\n",
    "for name, keyword, goodday, realUp in zip(names, keywords, gooddays, labels): # 데이터셋에서 종목명 기준으로 반복.\n",
    "    # df에 담을 정보\n",
    "    stocks = [] # 종목 명\n",
    "    titles = [] # 뉴스 제목\n",
    "    hrefs = [] # 뉴스 주소\n",
    "    contexts = [] # 뉴스 본문\n",
    "    realUps = [] # 종목 진짜 올랐는지.\n",
    "\n",
    "    keyword = str(keyword)\n",
    "    # 주식 종목 조건에 맞게 검색 [종목코드, 상한가 날짜]\n",
    "    url = 'https://search.daum.net/search?w=news&nil_search=btn&DA=NTB&enc=utf8&cluster=y&cluster_page=1&q='+'%s'%keyword+' 상한가'+'&p=1&sort=old'+'&sd='+'%s'%goodday+'000000'+'&ed='+'%s'%goodday+'235959'+'&period=u'\n",
    "    driver.get(url)\n",
    "    time.sleep(t3)\n",
    "\n",
    "    # 종목 뉴스 검색했을 때의 URL을 나중에 되돌아올 수 있도록 따로 보관해 두기.\n",
    "    bowl_url = driver.current_url\n",
    "\n",
    "    #뉴스 title, href 추출\n",
    "    elements = driver.find_elements(By.CSS_SELECTOR, \"#dnsColl > div:nth-child(1) > ul > li\")\n",
    "    if len(elements) != 0 : # 뉴스가 없는 경우도 있음. -> 현재 종목명이 변경돼서 없던 것임.. 종목코드로 검색하면 됨. 일단 그래도 냅둠\n",
    "        for element in elements:\n",
    "            element = element.find_element(By.CSS_SELECTOR, \"div.item-title\")\n",
    "            element = element.find_element(By.TAG_NAME, \"a\")\n",
    "            realUps.append(realUp)\n",
    "            stocks.append(name) # 주식명\n",
    "            titles.append(element.text) #뉴스제목\n",
    "            hrefs.append(element.get_attribute(\"href\")) #뉴스링크\n",
    "            \n",
    "        # 뉴스 링크에 접속해서 본문 따기\n",
    "        for i in range(0,len(hrefs)):\n",
    "            driver.get(hrefs[i])\n",
    "            time.sleep(t2)\n",
    "            try : \n",
    "                context = driver.find_element(By.XPATH, '//*[@id=\"mArticle\"]/div[2]/div[2]/section').text\n",
    "            except : # 본문 구조가 다른 경우가 있음\n",
    "                context = driver.find_element(By.XPATH, '//*[@id=\"mArticle\"]/div[2]/div/section').text\n",
    "            context = context.replace(\"\\n\", \" \")\n",
    "            contexts.append(context)\n",
    "            time.sleep(t1)\n",
    "\n",
    "        # 데이터프레임 생성\n",
    "        df = pd.DataFrame({\n",
    "            'realUp': realUps,\n",
    "            'stock': stocks,\n",
    "            'title': titles,\n",
    "            'href': hrefs,\n",
    "            'context': contexts\n",
    "        })\n",
    "\n",
    "        # CSV 파일로 저장\n",
    "        df.to_csv('./datas/news.csv', mode='a' ,header=False, index=False)\n",
    "        \n",
    "        time.sleep(t3)\n",
    "    \n",
    "print('뉴스 데이터 수집이 완료되었습니다.')"
   ]
  },
  {
   "cell_type": "code",
   "execution_count": 42,
   "metadata": {},
   "outputs": [
    {
     "data": {
      "text/plain": [
       "RangeIndex(start=0, stop=13670, step=1)"
      ]
     },
     "execution_count": 42,
     "metadata": {},
     "output_type": "execute_result"
    }
   ],
   "source": [
    "import os\n",
    "import pandas as pd\n",
    "\n",
    "# CSV 파일 읽기\n",
    "df = pd.read_csv('./datas/news.csv', usecols=[0,1,2,3,4])\n",
    "\n",
    "# 갯수 세기\n",
    "df.index\n"
   ]
  },
  {
   "cell_type": "code",
   "execution_count": null,
   "metadata": {},
   "outputs": [],
   "source": [
    "\n",
    "# 뉴스 내용 최대 길이 확인\n",
    "df['context'].str.len().max()"
   ]
  },
  {
   "cell_type": "code",
   "execution_count": 47,
   "metadata": {},
   "outputs": [
    {
     "data": {
      "text/html": [
       "<div>\n",
       "<style scoped>\n",
       "    .dataframe tbody tr th:only-of-type {\n",
       "        vertical-align: middle;\n",
       "    }\n",
       "\n",
       "    .dataframe tbody tr th {\n",
       "        vertical-align: top;\n",
       "    }\n",
       "\n",
       "    .dataframe thead th {\n",
       "        text-align: right;\n",
       "    }\n",
       "</style>\n",
       "<table border=\"1\" class=\"dataframe\">\n",
       "  <thead>\n",
       "    <tr style=\"text-align: right;\">\n",
       "      <th></th>\n",
       "      <th>realUp</th>\n",
       "      <th>stock</th>\n",
       "      <th>context</th>\n",
       "    </tr>\n",
       "  </thead>\n",
       "  <tbody>\n",
       "    <tr>\n",
       "      <th>0</th>\n",
       "      <td>1</td>\n",
       "      <td>차바이오텍</td>\n",
       "      <td>[서울경제] 차바이오텍(085660)은 2일 오전 10시 23분 현재 19.33% ...</td>\n",
       "    </tr>\n",
       "    <tr>\n",
       "      <th>1</th>\n",
       "      <td>1</td>\n",
       "      <td>차바이오텍</td>\n",
       "      <td>[서울경제] 오후 12시 14분 현재 안트로젠(065660)이 +30.00% 오른 ...</td>\n",
       "    </tr>\n",
       "    <tr>\n",
       "      <th>2</th>\n",
       "      <td>1</td>\n",
       "      <td>차바이오텍</td>\n",
       "      <td>[서울경제] 오후 1시 12분 현재 차바이오텍(085660)이 +30.00% 오른 ...</td>\n",
       "    </tr>\n",
       "    <tr>\n",
       "      <th>3</th>\n",
       "      <td>1</td>\n",
       "      <td>차바이오텍</td>\n",
       "      <td>[서울경제] 2일 오후 1시 30분 현재 코스닥은 전일 대비 10.72p(+1.34...</td>\n",
       "    </tr>\n",
       "    <tr>\n",
       "      <th>4</th>\n",
       "      <td>1</td>\n",
       "      <td>차바이오텍</td>\n",
       "      <td>[서울경제] 2일 오후 2시 0분 현재 코스닥은 전일 대비 11.39p(+1.43%...</td>\n",
       "    </tr>\n",
       "  </tbody>\n",
       "</table>\n",
       "</div>"
      ],
      "text/plain": [
       "   realUp  stock                                            context\n",
       "0       1  차바이오텍  [서울경제] 차바이오텍(085660)은 2일 오전 10시 23분 현재 19.33% ...\n",
       "1       1  차바이오텍  [서울경제] 오후 12시 14분 현재 안트로젠(065660)이 +30.00% 오른 ...\n",
       "2       1  차바이오텍  [서울경제] 오후 1시 12분 현재 차바이오텍(085660)이 +30.00% 오른 ...\n",
       "3       1  차바이오텍  [서울경제] 2일 오후 1시 30분 현재 코스닥은 전일 대비 10.72p(+1.34...\n",
       "4       1  차바이오텍  [서울경제] 2일 오후 2시 0분 현재 코스닥은 전일 대비 11.39p(+1.43%..."
      ]
     },
     "execution_count": 47,
     "metadata": {},
     "output_type": "execute_result"
    }
   ],
   "source": [
    "# CSV 파일 읽기\n",
    "df = pd.read_csv('./datas/news.csv', usecols=[0,1,4])\n",
    "df.head()"
   ]
  },
  {
   "cell_type": "code",
   "execution_count": null,
   "metadata": {},
   "outputs": [
    {
     "data": {
      "text/html": [
       "<div>\n",
       "<style scoped>\n",
       "    .dataframe tbody tr th:only-of-type {\n",
       "        vertical-align: middle;\n",
       "    }\n",
       "\n",
       "    .dataframe tbody tr th {\n",
       "        vertical-align: top;\n",
       "    }\n",
       "\n",
       "    .dataframe thead th {\n",
       "        text-align: right;\n",
       "    }\n",
       "</style>\n",
       "<table border=\"1\" class=\"dataframe\">\n",
       "  <thead>\n",
       "    <tr style=\"text-align: right;\">\n",
       "      <th></th>\n",
       "      <th>날짜</th>\n",
       "      <th>종목코드</th>\n",
       "      <th>라벨</th>\n",
       "    </tr>\n",
       "  </thead>\n",
       "  <tbody>\n",
       "    <tr>\n",
       "      <th>0</th>\n",
       "      <td>20180102</td>\n",
       "      <td>85660</td>\n",
       "      <td>1</td>\n",
       "    </tr>\n",
       "    <tr>\n",
       "      <th>1</th>\n",
       "      <td>20180102</td>\n",
       "      <td>900100</td>\n",
       "      <td>1</td>\n",
       "    </tr>\n",
       "    <tr>\n",
       "      <th>2</th>\n",
       "      <td>20180102</td>\n",
       "      <td>41190</td>\n",
       "      <td>1</td>\n",
       "    </tr>\n",
       "    <tr>\n",
       "      <th>3</th>\n",
       "      <td>20180103</td>\n",
       "      <td>263810</td>\n",
       "      <td>0</td>\n",
       "    </tr>\n",
       "    <tr>\n",
       "      <th>4</th>\n",
       "      <td>20180103</td>\n",
       "      <td>56730</td>\n",
       "      <td>0</td>\n",
       "    </tr>\n",
       "  </tbody>\n",
       "</table>\n",
       "</div>"
      ],
      "text/plain": [
       "         날짜    종목코드  라벨\n",
       "0  20180102   85660   1\n",
       "1  20180102  900100   1\n",
       "2  20180102   41190   1\n",
       "3  20180103  263810   0\n",
       "4  20180103   56730   0"
      ]
     },
     "metadata": {},
     "output_type": "display_data"
    }
   ],
   "source": [
    "import pandas as pd\n",
    "df = pd.read_csv('./datas/real_final_sanghanga_df.csv', usecols=[1,3,17])\n",
    "df.head()"
   ]
  },
  {
   "cell_type": "code",
   "execution_count": null,
   "metadata": {},
   "outputs": [
    {
     "data": {
      "text/plain": [
       "1445"
      ]
     },
     "metadata": {},
     "output_type": "display_data"
    }
   ],
   "source": [
    "len(set(df['종목코드'].tolist()))"
   ]
  }
 ],
 "metadata": {
  "kernelspec": {
   "display_name": "moon_mys",
   "language": "python",
   "name": "python3"
  },
  "language_info": {
   "codemirror_mode": {
    "name": "ipython",
    "version": 3
   },
   "file_extension": ".py",
   "mimetype": "text/x-python",
   "name": "python",
   "nbconvert_exporter": "python",
   "pygments_lexer": "ipython3",
   "version": "3.8.19"
  }
 },
 "nbformat": 4,
 "nbformat_minor": 2
}
