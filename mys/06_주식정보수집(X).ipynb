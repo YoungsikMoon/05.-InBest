{
 "cells": [
  {
   "cell_type": "markdown",
   "metadata": {},
   "source": [
    "# yfinance로 주가 정보 수집"
   ]
  },
  {
   "cell_type": "markdown",
   "metadata": {},
   "source": [
    "## 국내 주가 정보"
   ]
  },
  {
   "cell_type": "code",
   "execution_count": null,
   "metadata": {},
   "outputs": [],
   "source": [
    "import yfinance as yf\n",
    "\n",
    "# 삼성전자 (005930.KS)\n",
    "# SK하이닉스 (000660.KS)\n",
    "# NAVER (035420.KS)\n",
    "# 현대자동차 (005380.KS)\n",
    "# 삼성전자우 (005935.KS)\n",
    "# LG전자 (066570.KS)\n",
    "# 셀트리온 (068270.KS)\n",
    "# 삼성바이오로직스 (207940.KS)\n",
    "# 카카오 (035720.KS)\n",
    "# 현대모비스 (012330.KS)\n",
    "\n",
    "samsung = yf.Ticker(\"005930.KS\")\n",
    "samsung_data = samsung.history(period=\"1y\")\n",
    "display(samsung_data)\n",
    "display(samsung.info)"
   ]
  },
  {
   "cell_type": "markdown",
   "metadata": {},
   "source": [
    "## 해외 주가 정보"
   ]
  },
  {
   "cell_type": "code",
   "execution_count": null,
   "metadata": {},
   "outputs": [],
   "source": [
    "import yfinance as yf\n",
    "nvda = yf.Ticker('NVDA')\n",
    "df = nvda.history(period='1y')\n",
    "ts_df = nvda.history(period='1y')[['Close', 'Volume']]\n",
    "display(df.head())\n",
    "display(ts_df.head())\n",
    "\n",
    "nvda.info"
   ]
  },
  {
   "cell_type": "markdown",
   "metadata": {},
   "source": [
    "## 주식 상세 정보 수집"
   ]
  },
  {
   "cell_type": "code",
   "execution_count": 1,
   "metadata": {},
   "outputs": [],
   "source": [
    "import yfinance as yf\n",
    "import json\n",
    "import os\n",
    "from datetime import datetime\n",
    "\n",
    "\n",
    "def get_stock_info(ticker):\n",
    "    \"\"\"\n",
    "    yfinance 라이브러리를 사용하여 주식 정보를 가져오는 함수\n",
    "\n",
    "    Args:\n",
    "    ticker (str): 조회할 주식의 티커 코드\n",
    "\n",
    "    Returns:\n",
    "    dict: 주식 정보를 담은 딕셔너리\n",
    "    \"\"\"\n",
    "    # 티커 코드를 사용하여 주식 데이터 가져오기\n",
    "    stock = yf.Ticker(ticker)\n",
    "\n",
    "    # 주식 정보 가져오기\n",
    "    info = stock.info\n",
    "\n",
    "    # 필요한 정보만 추출하여 딕셔너리로 반환\n",
    "    stock_info = {\n",
    "        \"이름(Name)\": info.get(\"longName\", \"N/A\"),\n",
    "        \"티커(Ticker)\": ticker,\n",
    "        \"섹터(Sector)\": info.get(\"sector\", \"N/A\"),\n",
    "        \"산업(Industry)\": info.get(\"industry\", \"N/A\"),\n",
    "        \"주가(Price)\": info.get(\"regularMarketPrice\", \"N/A\"),\n",
    "        \"시가총액(Market Cap)\": info.get(\"marketCap\", \"N/A\"),\n",
    "        \"PER(PE Ratio)\": info.get(\"trailingPE\", \"N/A\"),\n",
    "        \"배당수익률(Dividend Yield)\": info.get(\"dividendYield\", \"N/A\"),\n",
    "        \"52주 최고(52-Week High)\": info.get(\"fiftyTwoWeekHigh\", \"N/A\"),\n",
    "        \"52주 최저(52-Week Low)\": info.get(\"fiftyTwoWeekLow\", \"N/A\"),\n",
    "        \"평균 거래량(Average Volume)\": info.get(\"averageVolume\", \"N/A\"),\n",
    "        \"베타(Beta)\": info.get(\"beta\", \"N/A\"),\n",
    "        \"실적발표일(Earnings Date)\": info.get(\"earningsDate\", \"N/A\"),\n",
    "        \"예상 배당금(Forward Dividend)\": info.get(\"forwardDividend\", \"N/A\"),\n",
    "        \"예상 배당수익률(Forward Dividend Yield)\": info.get(\"forwardDividendYield\", \"N/A\"),\n",
    "        \"배당성향(Payout Ratio)\": info.get(\"payoutRatio\", \"N/A\"),\n",
    "        \"총부채(Total Debt)\": info.get(\"totalDebt\", \"N/A\"),\n",
    "        \"총현금(Total Cash)\": info.get(\"totalCash\", \"N/A\"),\n",
    "        \"총자산(Total Assets)\": info.get(\"totalAssets\", \"N/A\"),\n",
    "        \"총부채(Total Liabilities)\": info.get(\"totalLiabilities\", \"N/A\"),\n",
    "        \"매출액(Revenue)\": info.get(\"totalRevenue\", \"N/A\"),\n",
    "        \"매출총이익(Gross Profit)\": info.get(\"grossProfits\", \"N/A\"),\n",
    "        \"영업이익(Operating Income)\": info.get(\"operatingIncome\", \"N/A\"),\n",
    "        \"순이익(Net Income)\": info.get(\"netIncome\", \"N/A\"),\n",
    "        \"EPS(EPS)\": info.get(\"trailingEps\", \"N/A\"),\n",
    "        \"발행주식수(Shares Outstanding)\": info.get(\"sharesOutstanding\", \"N/A\"),\n",
    "        \"52주 수익률(52-Week Change)\": info.get(\"52WeekChange\", \"N/A\"),\n",
    "        \"단기매도비율(Short Ratio)\": info.get(\"shortRatio\", \"N/A\"),\n",
    "        \"유통주식 대비 공매도 비율(Short Percent of Float)\": info.get(\"floatShort\", \"N/A\")\n",
    "    }\n",
    "    # 오늘 날짜 디렉터리 생성\n",
    "    today = datetime.now().strftime(\"%Y-%m-%d\")\n",
    "    data_dir = os.path.join(\"./datas\", today, stock_info[\"이름(Name)\"])\n",
    "    if not os.path.exists(data_dir):\n",
    "        os.makedirs(data_dir)\n",
    "\n",
    "    # 파일명 생성\n",
    "    file_count = 1\n",
    "    json_file = os.path.join(data_dir, f\"{stock_info['티커(Ticker)']}_{file_count}.json\")\n",
    "    txt_file = os.path.join(data_dir, f\"{stock_info['티커(Ticker)']}_{file_count}.txt\")\n",
    "    while os.path.exists(json_file) or os.path.exists(txt_file):\n",
    "        file_count += 1\n",
    "        json_file = os.path.join(data_dir, f\"{stock_info['티커(Ticker)']}_{file_count}.json\")\n",
    "        txt_file = os.path.join(data_dir, f\"{stock_info['티커(Ticker)']}_{file_count}.txt\")\n",
    "\n",
    "    # JSON 파일로 저장\n",
    "    with open(json_file, \"w\") as f:\n",
    "        json.dump(stock_info, f, indent=4)\n",
    "\n",
    "    # TXT 파일로 저장\n",
    "    with open(txt_file, \"w\") as f:\n",
    "        for key, value in stock_info.items():\n",
    "            f.write(f\"{key}: {value}\\n\")\n",
    "\n",
    "    return stock_info"
   ]
  },
  {
   "cell_type": "code",
   "execution_count": 2,
   "metadata": {},
   "outputs": [
    {
     "name": "stdout",
     "output_type": "stream",
     "text": [
      "{'이름(Name)': 'NVIDIA Corporation', '티커(Ticker)': 'NVDA', '섹터(Sector)': 'Technology', '산업(Industry)': 'Semiconductors', '주가(Price)': 'N/A', '시가총액(Market Cap)': 3155470057472, 'PER(PE Ratio)': 75.01754, '배당수익률(Dividend Yield)': 0.00029999999, '52주 최고(52-Week High)': 140.76, '52주 최저(52-Week Low)': 39.23, '평균 거래량(Average Volume)': 422470364, '베타(Beta)': 1.68, '실적발표일(Earnings Date)': 'N/A', '예상 배당금(Forward Dividend)': 'N/A', '예상 배당수익률(Forward Dividend Yield)': 'N/A', '배당성향(Payout Ratio)': 0.0094, '총부채(Total Debt)': 11237000192, '총현금(Total Cash)': 31438000128, '총자산(Total Assets)': 'N/A', '총부채(Total Liabilities)': 'N/A', '매출액(Revenue)': 79773999104, '매출총이익(Gross Profit)': 'N/A', '영업이익(Operating Income)': 'N/A', '순이익(Net Income)': 'N/A', 'EPS(EPS)': 1.71, '발행주식수(Shares Outstanding)': 24598300672, '52주 수익률(52-Week Change)': 2.0468137, '단기매도비율(Short Ratio)': 0.72, '유통주식 대비 공매도 비율(Short Percent of Float)': 'N/A'}\n"
     ]
    }
   ],
   "source": [
    "stock_info = get_stock_info(\"NVDA\") # 주식 코드명을 적어주세용.\n",
    "print(stock_info)"
   ]
  },
  {
   "cell_type": "markdown",
   "metadata": {},
   "source": [
    "# 해외 지수 등락률"
   ]
  },
  {
   "cell_type": "code",
   "execution_count": 14,
   "metadata": {},
   "outputs": [
    {
     "name": "stderr",
     "output_type": "stream",
     "text": [
      "[*********************100%%**********************]  3 of 3 completed\n",
      "[                       0%%                      ]"
     ]
    },
    {
     "name": "stdout",
     "output_type": "stream",
     "text": [
      "미국 지수 등락률:\n",
      " Ticker           DIA       QQQ       SPY\n",
      "Date                                    \n",
      "2023-06-29       NaN       NaN       NaN\n",
      "2023-06-30  0.007885  0.015420  0.011801\n",
      "2023-07-03  0.000640  0.002355  0.001151\n",
      "2023-07-05 -0.003662 -0.000027 -0.001487\n",
      "2023-07-06 -0.010443 -0.007616 -0.007831\n",
      "...              ...       ...       ...\n",
      "2024-06-24  0.006746 -0.011385 -0.003251\n",
      "2024-06-25 -0.007513  0.011436  0.003851\n",
      "2024-06-26  0.000563  0.002065  0.001248\n",
      "2024-06-27  0.000818  0.002581  0.001576\n",
      "2024-06-28 -0.001098 -0.005191 -0.003935\n",
      "\n",
      "[252 rows x 3 columns]\n"
     ]
    },
    {
     "name": "stderr",
     "output_type": "stream",
     "text": [
      "[*********************100%%**********************]  2 of 2 completed\n",
      "\n",
      "1 Failed download:\n",
      "['^SSEC']: YFChartError('%ticker%: No data found, symbol may be delisted')\n",
      "/tmp/ipykernel_80250/2877613101.py:11: FutureWarning: The default fill_method='pad' in DataFrame.pct_change is deprecated and will be removed in a future version. Either fill in any non-leading NA values prior to calling pct_change or specify 'fill_method=None' to not fill NA values.\n",
      "  china_returns = yf.download(tickers_china, period='1y', interval='1d')['Adj Close'].pct_change()\n",
      "[*********************100%%**********************]  1 of 1 completed\n"
     ]
    },
    {
     "name": "stdout",
     "output_type": "stream",
     "text": [
      "\n",
      "중국 지수 등락률:\n",
      " Ticker      000001.SS  ^SSEC\n",
      "Date                        \n",
      "2023-07-03        NaN    NaN\n",
      "2023-07-04   0.000422    NaN\n",
      "2023-07-05  -0.006902    NaN\n",
      "2023-07-06  -0.005393    NaN\n",
      "2023-07-07  -0.002795    NaN\n",
      "...               ...    ...\n",
      "2024-06-25  -0.004422    NaN\n",
      "2024-06-26   0.007637    NaN\n",
      "2024-06-27  -0.008973    NaN\n",
      "2024-06-28   0.007316    NaN\n",
      "2024-07-01   0.009209    NaN\n",
      "\n",
      "[242 rows x 2 columns]\n",
      "\n",
      "일본 지수 등락률:\n",
      " Date\n",
      "2023-07-03         NaN\n",
      "2023-07-04   -0.009801\n",
      "2023-07-05   -0.002508\n",
      "2023-07-06   -0.016968\n",
      "2023-07-07   -0.011735\n",
      "                ...   \n",
      "2024-06-25    0.009496\n",
      "2024-06-26    0.012609\n",
      "2024-06-27   -0.008207\n",
      "2024-06-28    0.006140\n",
      "2024-07-01    0.001212\n",
      "Name: Adj Close, Length: 245, dtype: float64\n"
     ]
    },
    {
     "name": "stderr",
     "output_type": "stream",
     "text": [
      "[*********************100%%**********************]  1 of 1 completed\n",
      "[*********************100%%**********************]  1 of 1 completed\n"
     ]
    },
    {
     "name": "stdout",
     "output_type": "stream",
     "text": [
      "\n",
      "홍콩 지수 등락률:\n",
      " Date\n",
      "2023-06-28         NaN\n",
      "2023-06-29   -0.012398\n",
      "2023-06-30   -0.000947\n",
      "2023-07-03    0.020625\n",
      "2023-07-04    0.005650\n",
      "                ...   \n",
      "2024-06-24   -0.000045\n",
      "2024-06-25    0.002507\n",
      "2024-06-26    0.000942\n",
      "2024-06-27   -0.020645\n",
      "2024-06-28    0.000121\n",
      "Name: Adj Close, Length: 247, dtype: float64\n",
      "\n",
      "유로 지수 등락률:\n",
      " Date\n",
      "2023-07-03         NaN\n",
      "2023-07-04   -0.001628\n",
      "2023-07-05   -0.009173\n",
      "2023-07-06   -0.029333\n",
      "2023-07-07    0.003199\n",
      "                ...   \n",
      "2024-06-25   -0.003032\n",
      "2024-06-26   -0.004058\n",
      "2024-06-27   -0.002714\n",
      "2024-06-28   -0.001750\n",
      "2024-07-01    0.009268\n",
      "Name: Adj Close, Length: 251, dtype: float64\n"
     ]
    },
    {
     "name": "stderr",
     "output_type": "stream",
     "text": [
      "[*********************100%%**********************]  4 of 4 completed\n",
      "\n",
      "3 Failed downloads:\n",
      "['MARGIN', 'FUTURES', 'CREDIT']: YFChartError('%ticker%: No data found, symbol may be delisted')\n",
      "[*********************100%%**********************]  1 of 1 completed\n"
     ]
    },
    {
     "name": "stdout",
     "output_type": "stream",
     "text": [
      "\n",
      "예탁금, 미수금, 신용잔고, 선물예수금:\n",
      " Ticker           CASH  CREDIT  FUTURES  MARGIN\n",
      "Date                                          \n",
      "2023-06-29  46.369751     NaN      NaN     NaN\n",
      "2023-06-30  46.180489     NaN      NaN     NaN\n",
      "2023-07-03  47.764332     NaN      NaN     NaN\n",
      "2023-07-05  47.495377     NaN      NaN     NaN\n",
      "2023-07-06  46.399643     NaN      NaN     NaN\n",
      "...               ...     ...      ...     ...\n",
      "2024-06-24  55.509998     NaN      NaN     NaN\n",
      "2024-06-25  55.520000     NaN      NaN     NaN\n",
      "2024-06-26  55.919998     NaN      NaN     NaN\n",
      "2024-06-27  56.070000     NaN      NaN     NaN\n",
      "2024-06-28  56.570000     NaN      NaN     NaN\n",
      "\n",
      "[252 rows x 4 columns]\n",
      "\n",
      "환율 (원/달러):\n",
      " Date\n",
      "2023-07-03    1315.300049\n",
      "2023-07-04    1306.099976\n",
      "2023-07-05    1295.500000\n",
      "2023-07-06    1302.969971\n",
      "2023-07-07    1309.219971\n",
      "                 ...     \n",
      "2024-06-25    1386.109985\n",
      "2024-06-26    1390.890015\n",
      "2024-06-27    1393.380005\n",
      "2024-06-28    1386.949951\n",
      "2024-07-01    1381.770020\n",
      "Name: Adj Close, Length: 261, dtype: float64\n"
     ]
    },
    {
     "name": "stderr",
     "output_type": "stream",
     "text": [
      "[*********************100%%**********************]  1 of 1 completed\n",
      "[*********************100%%**********************]  2 of 2 completed\n"
     ]
    },
    {
     "name": "stdout",
     "output_type": "stream",
     "text": [
      "\n",
      "WTI 유가:\n",
      " Date\n",
      "2023-07-03    69.790001\n",
      "2023-07-05    71.790001\n",
      "2023-07-06    71.800003\n",
      "2023-07-07    73.860001\n",
      "2023-07-10    72.989998\n",
      "                ...    \n",
      "2024-06-25    80.830002\n",
      "2024-06-26    80.900002\n",
      "2024-06-27    81.739998\n",
      "2024-06-28    81.540001\n",
      "2024-07-01    82.010002\n",
      "Name: Adj Close, Length: 252, dtype: float64\n",
      "\n",
      "미국 채권금리 (3년, 10년):\n",
      " Ticker       ^FVX   ^TNX\n",
      "Date                    \n",
      "2023-06-28  3.972  3.710\n",
      "2023-06-29  4.143  3.854\n",
      "2023-06-30  4.133  3.819\n",
      "2023-07-03  4.191  3.858\n",
      "2023-07-05  4.255  3.945\n",
      "...           ...    ...\n",
      "2024-06-24  4.271  4.248\n",
      "2024-06-25  4.263  4.238\n",
      "2024-06-26  4.336  4.316\n",
      "2024-06-27  4.301  4.288\n",
      "2024-06-28  4.329  4.343\n",
      "\n",
      "[253 rows x 2 columns]\n"
     ]
    },
    {
     "name": "stderr",
     "output_type": "stream",
     "text": [
      "[*********************100%%**********************]  1 of 1 completed\n",
      "[*********************100%%**********************]  1 of 1 completed"
     ]
    },
    {
     "name": "stdout",
     "output_type": "stream",
     "text": [
      "\n",
      "필라델피아 반도체지수:\n",
      " Date\n",
      "2023-06-29         NaN\n",
      "2023-06-30    0.016291\n",
      "2023-07-03    0.008320\n",
      "2023-07-05   -0.021952\n",
      "2023-07-06   -0.012376\n",
      "                ...   \n",
      "2024-06-24   -0.030156\n",
      "2024-06-25    0.017898\n",
      "2024-06-26   -0.002806\n",
      "2024-06-27   -0.005728\n",
      "2024-06-28    0.009439\n",
      "Name: Adj Close, Length: 252, dtype: float64\n",
      "\n",
      "금 시세:\n",
      " Date\n",
      "2023-07-03    1921.699951\n",
      "2023-07-05    1919.599976\n",
      "2023-07-06    1908.699951\n",
      "2023-07-07    1926.199951\n",
      "2023-07-10    1925.000000\n",
      "                 ...     \n",
      "2024-06-25    2316.600098\n",
      "2024-06-26    2299.199951\n",
      "2024-06-27    2324.500000\n",
      "2024-06-28    2327.699951\n",
      "2024-07-01    2343.399902\n",
      "Name: Adj Close, Length: 252, dtype: float64\n"
     ]
    },
    {
     "name": "stderr",
     "output_type": "stream",
     "text": [
      "\n"
     ]
    }
   ],
   "source": [
    "import yfinance as yf\n",
    "import pandas as pd\n",
    "\n",
    "# 미국 지수 등락률\n",
    "tickers_us = ['SPY', 'QQQ', 'DIA']\n",
    "us_returns = yf.download(tickers_us, period='1y', interval='1d')['Adj Close'].pct_change()\n",
    "print(\"미국 지수 등락률:\\n\", us_returns)\n",
    "\n",
    "# 중국 지수 등락률 \n",
    "tickers_china = ['^SSEC', '000001.SS']\n",
    "china_returns = yf.download(tickers_china, period='1y', interval='1d')['Adj Close'].pct_change()\n",
    "print(\"\\n중국 지수 등락률:\\n\", china_returns)\n",
    "\n",
    "# 일본 지수 등락률\n",
    "tickers_japan = ['^N225']\n",
    "japan_returns = yf.download(tickers_japan, period='1y', interval='1d')['Adj Close'].pct_change()\n",
    "print(\"\\n일본 지수 등락률:\\n\", japan_returns)\n",
    "\n",
    "# 홍콩 지수 등락률\n",
    "tickers_hk = ['^HSI']\n",
    "hk_returns = yf.download(tickers_hk, period='1y', interval='1d')['Adj Close'].pct_change()\n",
    "print(\"\\n홍콩 지수 등락률:\\n\", hk_returns)\n",
    "\n",
    "# 유로 지수 등락률\n",
    "tickers_euro = ['^STOXX50E']\n",
    "euro_returns = yf.download(tickers_euro, period='1y', interval='1d')['Adj Close'].pct_change()\n",
    "print(\"\\n유로 지수 등락률:\\n\", euro_returns)\n",
    "\n",
    "# 예탁금, 미수금, 신용잔고, 선물예수금\n",
    "tickers_margin = ['CASH', 'MARGIN', 'CREDIT', 'FUTURES']\n",
    "margin_data = yf.download(tickers_margin, period='1y', interval='1d')['Adj Close']\n",
    "print(\"\\n예탁금, 미수금, 신용잔고, 선물예수금:\\n\", margin_data)\n",
    "\n",
    "# 환율 (원/달러)\n",
    "tickers_fx = ['KRW=X']\n",
    "fx_rate = yf.download(tickers_fx, period='1y', interval='1d')['Adj Close']\n",
    "print(\"\\n환율 (원/달러):\\n\", fx_rate)\n",
    "\n",
    "# WTI 유가\n",
    "tickers_oil = ['CL=F']\n",
    "oil_price = yf.download(tickers_oil, period='1y', interval='1d')['Adj Close']\n",
    "print(\"\\nWTI 유가:\\n\", oil_price)\n",
    "\n",
    "# 미국 채권금리 (3년, 10년)\n",
    "tickers_bond = ['^FVX', '^TNX']\n",
    "bond_yields = yf.download(tickers_bond, period='1y', interval='1d')['Adj Close']\n",
    "print(\"\\n미국 채권금리 (3년, 10년):\\n\", bond_yields)\n",
    "\n",
    "# 필라델피아 반도체지수\n",
    "tickers_phlx = ['^SOX']\n",
    "phlx_returns = yf.download(tickers_phlx, period='1y', interval='1d')['Adj Close'].pct_change()\n",
    "print(\"\\n필라델피아 반도체지수:\\n\", phlx_returns)\n",
    "\n",
    "# 금 시세\n",
    "tickers_gold = ['GC=F']\n",
    "gold_price = yf.download(tickers_gold, period='1y', interval='1d')['Adj Close']\n",
    "print(\"\\n금 시세:\\n\", gold_price)"
   ]
  }
 ],
 "metadata": {
  "kernelspec": {
   "display_name": "moon_mys",
   "language": "python",
   "name": "python3"
  },
  "language_info": {
   "codemirror_mode": {
    "name": "ipython",
    "version": 3
   },
   "file_extension": ".py",
   "mimetype": "text/x-python",
   "name": "python",
   "nbconvert_exporter": "python",
   "pygments_lexer": "ipython3",
   "version": "3.10.14"
  }
 },
 "nbformat": 4,
 "nbformat_minor": 2
}
