{
 "cells": [
  {
   "cell_type": "code",
   "execution_count": 11,
   "id": "47ef3313",
   "metadata": {},
   "outputs": [
    {
     "name": "stdout",
     "output_type": "stream",
     "text": [
      "8442\n",
      "가장 길이가 긴 행은 74번째 행입니다.\n"
     ]
    }
   ],
   "source": [
    "# 기사 내용 가장 긴 것도 요약 가능한지 확인하려고 잠깐 확인해본 코드입니다.\n",
    "\n",
    "# # import os\n",
    "# import pandas as pd\n",
    "\n",
    "# # CSV 파일 읽기\n",
    "# df = pd.read_csv('./datas/news.csv', usecols=[0,1,2,3,4])\n",
    "\n",
    "# # 뉴스 내용 최대 길이 확인\n",
    "# print(df['context'].str.len().max()) # 8442\n",
    "\n",
    "# # 데이터프레임 df의 'context' 열의 길이를 계산\n",
    "# lengths = df['context'].str.len()\n",
    "\n",
    "# # 가장 긴 행의 인덱스 찾기\n",
    "# longest_index = lengths.idxmax()\n",
    "# print(f\"가장 길이가 긴 행은 {longest_index}번째 행입니다.\")"
   ]
  },
  {
   "cell_type": "markdown",
   "id": "a1832145",
   "metadata": {},
   "source": [
    "# 뉴스 요약"
   ]
  },
  {
   "cell_type": "code",
   "execution_count": 2,
   "id": "59012811",
   "metadata": {},
   "outputs": [],
   "source": [
    "import os\n",
    "import pandas as pd"
   ]
  },
  {
   "cell_type": "code",
   "execution_count": 3,
   "id": "8d9a82f7",
   "metadata": {},
   "outputs": [
    {
     "data": {
      "text/html": [
       "<div>\n",
       "<style scoped>\n",
       "    .dataframe tbody tr th:only-of-type {\n",
       "        vertical-align: middle;\n",
       "    }\n",
       "\n",
       "    .dataframe tbody tr th {\n",
       "        vertical-align: top;\n",
       "    }\n",
       "\n",
       "    .dataframe thead th {\n",
       "        text-align: right;\n",
       "    }\n",
       "</style>\n",
       "<table border=\"1\" class=\"dataframe\">\n",
       "  <thead>\n",
       "    <tr style=\"text-align: right;\">\n",
       "      <th></th>\n",
       "      <th>realUp</th>\n",
       "      <th>stock</th>\n",
       "      <th>title</th>\n",
       "      <th>href</th>\n",
       "      <th>context</th>\n",
       "    </tr>\n",
       "  </thead>\n",
       "  <tbody>\n",
       "    <tr>\n",
       "      <th>0</th>\n",
       "      <td>1</td>\n",
       "      <td>차바이오텍</td>\n",
       "      <td>(코)차바이오텍, 전일 대비 19.33% 상승.. 일일회전율은 6.70% 기록</td>\n",
       "      <td>http://v.daum.net/v/20180102102348793</td>\n",
       "      <td>[서울경제] 차바이오텍(085660)은 2일 오전 10시 23분 현재 19.33% ...</td>\n",
       "    </tr>\n",
       "    <tr>\n",
       "      <th>1</th>\n",
       "      <td>1</td>\n",
       "      <td>차바이오텍</td>\n",
       "      <td>(코)안트로젠, 상한가 진입.. +30.00% ↑</td>\n",
       "      <td>http://v.daum.net/v/20180102121512373</td>\n",
       "      <td>[서울경제] 오후 12시 14분 현재 안트로젠(065660)이 +30.00% 오른 ...</td>\n",
       "    </tr>\n",
       "    <tr>\n",
       "      <th>2</th>\n",
       "      <td>1</td>\n",
       "      <td>차바이오텍</td>\n",
       "      <td>(코)차바이오텍, 상한가 진입.. +30.00% ↑</td>\n",
       "      <td>http://v.daum.net/v/20180102131306109</td>\n",
       "      <td>[서울경제] 오후 1시 12분 현재 차바이오텍(085660)이 +30.00% 오른 ...</td>\n",
       "    </tr>\n",
       "    <tr>\n",
       "      <th>3</th>\n",
       "      <td>1</td>\n",
       "      <td>차바이오텍</td>\n",
       "      <td>오후 1:30 현재 코스닥은 52:48으로 매도우위, 매도강세 업종은 건설업(0.2...</td>\n",
       "      <td>http://v.daum.net/v/20180102133028495</td>\n",
       "      <td>[서울경제] 2일 오후 1시 30분 현재 코스닥은 전일 대비 10.72p(+1.34...</td>\n",
       "    </tr>\n",
       "    <tr>\n",
       "      <th>4</th>\n",
       "      <td>1</td>\n",
       "      <td>차바이오텍</td>\n",
       "      <td>오후 2:00 현재 코스닥은 53:47으로 매도우위, 매도강세 업종은 IT부품업(1...</td>\n",
       "      <td>http://v.daum.net/v/20180102140132573</td>\n",
       "      <td>[서울경제] 2일 오후 2시 0분 현재 코스닥은 전일 대비 11.39p(+1.43%...</td>\n",
       "    </tr>\n",
       "  </tbody>\n",
       "</table>\n",
       "</div>"
      ],
      "text/plain": [
       "   realUp  stock                                              title  \\\n",
       "0       1  차바이오텍        (코)차바이오텍, 전일 대비 19.33% 상승.. 일일회전율은 6.70% 기록   \n",
       "1       1  차바이오텍                        (코)안트로젠, 상한가 진입.. +30.00% ↑   \n",
       "2       1  차바이오텍                       (코)차바이오텍, 상한가 진입.. +30.00% ↑   \n",
       "3       1  차바이오텍  오후 1:30 현재 코스닥은 52:48으로 매도우위, 매도강세 업종은 건설업(0.2...   \n",
       "4       1  차바이오텍  오후 2:00 현재 코스닥은 53:47으로 매도우위, 매도강세 업종은 IT부품업(1...   \n",
       "\n",
       "                                    href  \\\n",
       "0  http://v.daum.net/v/20180102102348793   \n",
       "1  http://v.daum.net/v/20180102121512373   \n",
       "2  http://v.daum.net/v/20180102131306109   \n",
       "3  http://v.daum.net/v/20180102133028495   \n",
       "4  http://v.daum.net/v/20180102140132573   \n",
       "\n",
       "                                             context  \n",
       "0  [서울경제] 차바이오텍(085660)은 2일 오전 10시 23분 현재 19.33% ...  \n",
       "1  [서울경제] 오후 12시 14분 현재 안트로젠(065660)이 +30.00% 오른 ...  \n",
       "2  [서울경제] 오후 1시 12분 현재 차바이오텍(085660)이 +30.00% 오른 ...  \n",
       "3  [서울경제] 2일 오후 1시 30분 현재 코스닥은 전일 대비 10.72p(+1.34...  \n",
       "4  [서울경제] 2일 오후 2시 0분 현재 코스닥은 전일 대비 11.39p(+1.43%...  "
      ]
     },
     "metadata": {},
     "output_type": "display_data"
    }
   ],
   "source": [
    "# CSV 파일 읽기\n",
    "news_df = pd.read_csv('./datas/news.csv', usecols=[0,1,2,3,4])\n",
    "display(news_df.head())"
   ]
  },
  {
   "cell_type": "code",
   "execution_count": 4,
   "id": "05d8c2b5",
   "metadata": {},
   "outputs": [
    {
     "data": {
      "text/plain": [
       "'(코)안트로젠, 상한가 진입.. +30.00% ↑'"
      ]
     },
     "execution_count": 4,
     "metadata": {},
     "output_type": "execute_result"
    }
   ],
   "source": [
    "news_df['title'][1]"
   ]
  },
  {
   "cell_type": "code",
   "execution_count": 5,
   "id": "44ae74de",
   "metadata": {},
   "outputs": [],
   "source": [
    "from langchain_community.chat_models import ChatOllama\n",
    "\n",
    "eeve = ChatOllama(model= 'EEVE-Korean-10.8B')"
   ]
  },
  {
   "cell_type": "code",
   "execution_count": null,
   "id": "25472a5b",
   "metadata": {},
   "outputs": [],
   "source": [
    "from tqdm import tqdm\n",
    "for i in tqdm(range(0, len(news_df))):\n",
    "    context = news_df['context'][i] # 기사 내용\n",
    "    summ_context = eeve.invoke(context+'기사 내용에서 주식 내용만 요약해줘').content.replace('\\n', ' ').replace('*','').replace('#','') # 요약 기사 내용\n",
    "\n",
    "    columns = ['realUp', 'stock', 'title', 'summ_context', 'ori_context']\n",
    "    temp_df = pd.DataFrame(columns=columns)\n",
    "\n",
    "    # 판다스 버전 업 되면 안될 코드\n",
    "    # temp_df['realUp'][0] = news_df['realUp'][i]\n",
    "    # temp_df['title'][0] = news_df['title'][i]\n",
    "    # temp_df['summ_context'][0] = summ_context\n",
    "    # temp_df['ori_context'][0] = news_df['context'][i]\n",
    "    \n",
    "    # 판다스 버전업 호환 코드\n",
    "    temp_df.loc[0, \"realUp\"] = news_df.loc[i, 'realUp']\n",
    "    temp_df.loc[0, \"stock\"] = news_df.loc[i, 'stock']\n",
    "    temp_df.loc[0, \"title\"] = news_df.loc[i, 'title']\n",
    "    temp_df.loc[0, \"summ_context\"] = summ_context\n",
    "    temp_df.loc[0, \"ori_context\"] = news_df.loc[i, 'context']\n",
    "    temp_df.to_csv('./datas/new_news_summary.csv', mode='a' ,header=False, index=False)"
   ]
  },
  {
   "cell_type": "code",
   "execution_count": null,
   "id": "c22eaf95",
   "metadata": {},
   "outputs": [],
   "source": []
  }
 ],
 "metadata": {
  "kernelspec": {
   "display_name": "Python 3 (ipykernel)",
   "language": "python",
   "name": "python3"
  },
  "language_info": {
   "codemirror_mode": {
    "name": "ipython",
    "version": 3
   },
   "file_extension": ".py",
   "mimetype": "text/x-python",
   "name": "python",
   "nbconvert_exporter": "python",
   "pygments_lexer": "ipython3",
   "version": "3.10.14"
  }
 },
 "nbformat": 4,
 "nbformat_minor": 5
}
