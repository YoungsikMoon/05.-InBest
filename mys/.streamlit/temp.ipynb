{
 "cells": [
  {
   "cell_type": "code",
   "execution_count": 42,
   "metadata": {},
   "outputs": [
    {
     "name": "stdout",
     "output_type": "stream",
     "text": [
      "          day    code                                            context  \\\n",
      "0  2024-05-17  260970  2024년 5월 17일 에스앤디의 기사입니다. 삼천당제약·에스앤디 등 상위권  [서...   \n",
      "1  2024-06-13  260970  2024년 6월 13일 에스앤디의 기사입니다. [이데일리 김보겸 기자] KB증권은 ...   \n",
      "\n",
      "  stock                                               href  \n",
      "0  에스앤디  [https://n.news.naver.com/mnews/article/011/00...  \n",
      "1  에스앤디  [https://n.news.naver.com/mnews/article/018/00...  \n",
      "All Context: 2024년 5월 17일 에스앤디의 기사입니다. 삼천당제약·에스앤디 등 상위권  [서울경제]  미래에셋증권에서 거래하는 고수익 투자자들이 17일 오전 가장 많이 순매수한 종목은 퓨처켐으로 나타났다. 삼천당제약(000250), 에스앤디(260970), HD현대중공업(329180) 등도 순매수 상위권에 올랐다.  이날 미래에셋증권에 따르면 미래에셋증권 주식 거래 고객 중 최근 1개월 간 투자수익률 상위 1%에 해당하는 ‘주식 초고수’들이 오전 11시까지 가장 많이 사들인 종목은 퓨쳐켐으로 집계됐다.  이날 오전 11시께 퓨쳐켐의 주가는 전 거래일 대비 350원(2.59%) 상승한 1만 3870원에 거래되고 있다. 퓨쳐켐은 방사성의약품 분야에서 20년 이상 경력을 갖춘 기업이다. 현재 생산 중인 방사성의약품은 파킨슨병, 알츠하이머, 암 진단에 쓰인다. 퓨쳐켐은 최근 전립선암 치료제 임상 2상을 시작했다고 밝혔다. 전립선암 환자는 미국에서만 연간 27만 명에 달하는 만큼 신약 개발에 대한 기대감이 커져 매수세가 몰린 것으로 풀이된다.  퓨쳐켐은 거세저항성 전이 환자를 대상으로 하는 전립선암 치료제 FC705가 미국 임상 2a상 시험의 첫 환자 투여를 시작했다. 퓨쳐켐의 FC705는 절반의 투여량으로 피폭 등의 부작용은 최소화하면서 경쟁 약물 대비 높은 종양 섭취율로 치료 효과를 최대화하는 '계열 내 최고(Best-in-class)' 신약을 목표로 개발 중인 전립선암 치료제다. 앞서 임상 1상에서는 환자가 치료에 반응하는 비율인 객관적 반응률(ORR)과 질병통제율(DCR)이 100%로 나타났다.  순매수 2위에는 삼천당제약이 이름을 올렸다. 삼천당제약의 주가는 전 거래일 대비 4400원(3.96%) 오른 11만 5400원에 거래되고 있다. 삼천당제약은 지난 10일 경기도 화성 향남 공장에서 다회용 점안제 복제약 미국 수출 기념식을 진행했. 국내 제약사가 다회용 점안제를 미국에 수출하는 것은 이번이 처음이다. 삼천당제약이 자체 개발하고 미국 cGMP 인증을 받은 향남 공장에서 직접 생산한 다회용 녹내장 점안제는 미국에서 연간 4000억 이상 판매되는 제품이다.  순매수 3위는 식품 전문 업체 에스앤디다. K푸드의 글로벌 확대에 수혜를 받을 것이라는 기대감에 매수세가 몰린 것으로 분석된다. 에스앤디의 1분기 매출액은 전년 동기 대비 30.7% 증가한 238억원, 같은 기간 영업이익은 72.2% 증가한 35억원을 기록했다. 박종선 유진투자증권 연구원은 “2분기 실적 또한 분기 최고 매출액을 달성할 것으로 예상한다”며 “글로벌 K푸드 열풍 확대에 따른 수출이 크게 증가할 것\"이라고 내다봤다.  이날 순매도 상위권에는 효성중공업(298040), 효성티앤씨(298020), 코미코(183300), 한미반도체(042700) 등이 차지했다. HLB(028300)도 순매도 6위를 기록했다. 효성중공업이 전력기기로 대표되는 중공업 부문과 건설 부문의 분리를 추진한다는 소식에 주가가 급등하며 투자자들이 차익 실현에 나선 것으로 풀이된다. 중공업과 건설 부문 중 한 곳을 인적분할하는 방식으로, 중공업 부문이 존속법인으로 건설업 부문이 신설법인으로 가는 구조가 유력한 것으로 알려졌다. 다만 효성그룹은 “효성중공업을 중공업 부문과 건설 부문으로 분리하는 방안을 검토하고 있지 않다”고 밝혔다.  이날 HLB는 개장 직후 가격하한폭까지 급락했다. 전날 HLB의 시가총액은 약 12조 5335억 원이었으나 이날 하한가를 기록하면서 시총은 4조 가량 증발했다. HLB의 개장 직후 시총은 8조 7787억 원이다. HLB의 간암 신약인 리보세라닙은 FDA로부터 보완 요구를 받은 것으로 전해졌다. 서류 제출 과정과 우크라이나 전쟁으로 백인 환자 임상 실사를 진행하지 못하면서 미승인된 것으로 알려졌다.  미래에셋증권은 자사 고객 중에서 지난 1개월간 수익률 상위 1% 투자자들의 매매 종목을 집계해 실시간·전일·최근 5일 기준으로 모바일트레이딩시스템(MTS)상에서 공개하고 있다. 이 통계 데이터는 미래에셋증권의 의견과 무관한 단순 정보 안내이며 각각의 투자자 개인에게 맞는 투자 또는 수익 달성을 보장하지 않는다. 또 테마주 관련종목은 이상 급등락 가능성이 있으므로 유의해야 한다. 2024년 6월 13일 에스앤디의 기사입니다. [이데일리 김보겸 기자] KB증권은 에스앤디(260970)에 대해 불닭볶음면 열풍으로 주요 고객사인 삼양식품(003230)과 동반 성장하고 있다고 평가했다. 일반기능식품소재 사업 다변화 역시 성장 모멘텀이 될 것이란 기대다. 재무구조도 양호하며 동종업체 대비 저평가된 종목으로 주목했다.    임상국 KB증권 연구원은 “비수기에도 불구하고 1분기 실적은 매출액 238억원, 영업이익 35억원으로 전년동기 대비 각각 30.8%, 72.2% 성장하며 실적 호조세가 이어졌다”고 밝혔다.  에스앤디는 일반기능식품 및 건강기능식품 소재를 생산하는 기업으로 2021년 9월 코넥스에서 코스닥 시장으로 이전 상장했다. 삼양식품(003230) 농심(004370) 풀무원(017810) CJ제일제당(097950) 등 약 158개의 고객사를 보유하고 있으며 230여종의 식품 소재를 생산하고 있다.  K-푸드 열풍에 힘입어 주요 고객사와 동반 성장하고 있다는 데 임 연구원은 주목했다. 삼양식품의 불닭시리즈가 중국, 동남아, 미국을 중심으로 매출액이 지속 증가하고 있으며 이는 불닭시리즈 액상, 분말 스프의 핵심 원료를 독점 공급하는 에스앤디의 동반 성장으로 이어지고 있다는 것이다.  임 연구원은 “글로벌 K-푸드, 특히 불닭 시리즈 열풍이 이어지며 불닭볶음면 소스 핵심 원료 매출이 전년 대비 42.7% 증가한 것”이라며 “영업이익률도 2023년 1분기 11.2%에서 14.8%로 큰 폭 상승했다”고 했다.  일반기능식품 소재 사업을 다변화하면서 차기 성장 모멘텀도 확보했다고 봤다. 임 연구원은 “기존 식품 소재 사업을 바탕으로 부가가치가 높은 간편식, 조미료 등 완제품 출시를 통해 시장 트렌드 변화에 탄력적으로 대응하며 또 다른 성장 모멘텀으로 작용할 수 있다”고 짚었다.  2024년 1분기 말 기준 유보율은 4305%, 자기자본이익률(ROE)은 12.7%, 현금성자산은 약 620억원, 무차입 경영 등으로 재무구조도 양호하다. 주가수익비율(PER)은 8.1배 수준으로 동종 업체(16.1배) 대비 저평가 상태다.미국 5월 CPI 둔화 및 6월 FOMC 소화 외국인 1736억 ‘사자’ vs 기관 1885억 ‘팔자’ 통신장비 2%, 디지털컨텐츠 1% 상승 중앙첨단소재 24%, 와이씨 17%대↑ [이데일리 김응태 기자] 코스닥이 외국인의 주도적인 매수세에 힘입어 상승 마감했다.  13일 마켓포인트에 따르면 코스닥 지수는 전거래일 대비 0.66포인트(0.08%) 상승한 871.33으로 마감했다. 이날 코스닥은 870선에서 1%대 상승 출발해 880선 돌파를 넘봤지만, 장 후반 바이오주를 중심으로 차익실현 물량이 일부 출회되면서 870선을 가까스로 사수했다.  간밤 뉴욕증시는 다우존스 지수를 제외하고 상승 마감했다. 뉴욕증권거래소(NYSE)에서 다우존스30산업평균지수는 전장보다 0.09% 하락한 3만8712.21을 기록했다. 스탠더드앤드푸어스(S&P)500지수는 전거래일 대비 0.85% 오른 5421.03으로 집계됐다. 기술주 중심의 나스닥 지수는 1.53% 뛴 1만7608.44에 장을 마쳤다.  미국의 5월 소비자물가지수(CPI)가 둔화세를 보이며 나스닥이 1% 넘게 상승하자 코스닥 시장도 투자심리가 개선되며 상승 마감한 것으로 풀이된다. 이경민 대신증권 연구원은 “전일 진행된 미 연방준비제도(Fed·연준) 연방공개시장위원회(FOMC)에서 연내 1회 금리 인하를 시사하는 점도표가 발표됐으나, 시장은 회의 이전 발표된 CPI 물가 둔화에 더욱 긍정적으로 반응했다”고 분석했다.  수급별로는 외국인이 1736억원, 개인이 171억원 순매수했다. 반면 기관은 1885억원 순매도했다.  프로그램별로는 차익과 비차익을 합쳐 261억원 매수 우위를 기록했다.  업종별로 희비가 엇갈렸다. 통신장비(2.61%)는 2%대 강세를 나타냈다. 디지털컨텐츠(0.96%), 비금속(0.86%), 출판·매체복제(0.84%), 유통(0.87%), 음식료·담배(0.78%), 금속(0.73%), 섬유·의류(0.63%), 의료·정밀기기(0.59%) 등은 1% 미만 소폭 올랐다. 반면 기타제조(2.15%)는 2%대 하락했다. 방송서비스(1.25%), 종이·목재(1.25%), 기타서비스(1.13%) 등은 1%대 하락했다.  시가총액 상위주도 종목에 따라 등락 흐름이 갈렸다. 중앙첨단소재(051980)는 24% 넘게 급등했다. 와이씨(232140)는 17% 상승했다. 브이티(018290)는 8%, 펄어비스(263750)는 5%대 각각 올랐다. HLB(028300)도 4%대 상승세를 나타냈다. 이와 달리 대주전자재료(078600)는 6% 넘게 급락했다. 휴젤(145020), 리가켐바이오(141080), 티씨케이(064760) 등은 3%대 하락했다.  주요 종목 중에선 에스앤디(260970)가 불닭볶음면 소스 제조사라는 점이 부각하면서 상한가를 기록했다. 하반기 화장품 수출 확대 전망에 힘이 실리면서 마녀공장(439090)은 20%, 선진뷰티사이언스(086710)는 9% 넘게 올랐다.  이날 거래량은 9억979만주, 거래대금은 10조2776억원으로 집계됐다. 713개 종목이 상승했으며, 2개 종목은 상한가를 달성했다. 823개 종목은 하락했으며, 하한가를 기록한 종목은 없었다. 114개 종목은 보합권에 머물렀다.\n"
     ]
    }
   ],
   "source": [
    "import pandas as pd\n",
    "\n",
    "# CSV 파일 읽기\n",
    "file_path = '/home/alpaco/mys/projects/news/datas/네이버_뉴스기사/naver_news_origin_duplicates.csv'\n",
    "news_df = pd.read_csv(file_path, index_col=False, dtype={'href':str, 'context':str, 'stock':str, 'code':str})\n",
    "\n",
    "# 필요한 열 선택 및 특정 코드 필터링\n",
    "news_df = news_df[['context', 'stock', 'day', 'code', 'href']]\n",
    "news_df = news_df[news_df['code'] == '260970'].reset_index(drop=True)\n",
    "\n",
    "# 'day'가 같은 행의 'context' 통합\n",
    "news_df = news_df.groupby(['day', 'code'], as_index=False).agg({\n",
    "    'context': lambda x: ''.join(x),  # context를 순서대로 합치기\n",
    "    'stock': 'first',                  # 첫 번째 'stock' 값 유지\n",
    "    'href': lambda x: list(x)          # href를 리스트로 통합\n",
    "})\n",
    "\n",
    "# 'day' 값을 datetime 형식으로 변환\n",
    "news_df['day'] = pd.to_datetime(news_df['day'], format='%Y%m%d').dt.date\n",
    "\n",
    "# 'day'를 'yyyy년 m월 d일' 형식으로 변환하고 'context'에 추가\n",
    "news_df['context'] = news_df.apply(lambda row: f\"{row['day'].year}년 {row['day'].month}월 {row['day'].day}일 {row['stock']}의 통합 기사입니다. {row['context']}\", axis=1)\n",
    "\n",
    "# 'context' 내용을 순서대로 합쳐서 all_context라는 변수에 저장\n",
    "all_context = ' '.join(news_df['context'].tolist())\n",
    "\n",
    "# 날짜 오름차순 정렬 후 인덱스 재설정\n",
    "news_df = news_df.sort_values(by='day', ascending=True).reset_index(drop=True)\n",
    "\n",
    "# 결과 확인\n",
    "print(news_df)\n",
    "print(\"All Context:\", all_context)\n"
   ]
  },
  {
   "cell_type": "code",
   "execution_count": 12,
   "metadata": {},
   "outputs": [
    {
     "data": {
      "text/plain": [
       "0    2024년 5월 17일 에스앤디의 기사입니다. 삼천당제약·에스앤디 등 상위권  [서...\n",
       "1    2024년 6월 13일 에스앤디의 기사입니다. [이데일리 김보겸 기자] KB증권은 ...\n",
       "Name: context, dtype: object"
      ]
     },
     "execution_count": 12,
     "metadata": {},
     "output_type": "execute_result"
    }
   ],
   "source": [
    "news_df['context']"
   ]
  },
  {
   "cell_type": "code",
   "execution_count": 14,
   "metadata": {},
   "outputs": [
    {
     "data": {
      "text/plain": [
       "['https://n.news.naver.com/mnews/article/018/0005762640?sid=101',\n",
       " 'https://n.news.naver.com/mnews/article/018/0005763136?sid=101']"
      ]
     },
     "execution_count": 14,
     "metadata": {},
     "output_type": "execute_result"
    }
   ],
   "source": [
    "news_df['href'][1]"
   ]
  },
  {
   "cell_type": "code",
   "execution_count": 15,
   "metadata": {},
   "outputs": [],
   "source": [
    "# RAG 관련\n",
    "import ollama\n",
    "import chromadb"
   ]
  },
  {
   "cell_type": "code",
   "execution_count": 18,
   "metadata": {},
   "outputs": [],
   "source": [
    "try :\n",
    "    collections = client.list_collections()\n",
    "except :\n",
    "    client = chromadb.Client()\n",
    "    collections = client.list_collections()"
   ]
  },
  {
   "cell_type": "code",
   "execution_count": 19,
   "metadata": {},
   "outputs": [],
   "source": [
    "\n",
    "def get_embedding(prompt, model=\"mxbai-embed-large\"):\n",
    "    response = ollama.embeddings(prompt=prompt, model=model)\n",
    "    return response[\"embedding\"]"
   ]
  },
  {
   "cell_type": "code",
   "execution_count": 22,
   "metadata": {},
   "outputs": [
    {
     "name": "stdout",
     "output_type": "stream",
     "text": [
      "기존 컬렉션 삭제완료\n",
      "컬렉션 생성 완료\n"
     ]
    }
   ],
   "source": [
    "def chaek_collection(collections):\n",
    "    collections = client.list_collections()\n",
    "    context_exists = \"context\" in [collection.name for collection in collections]  # 컬렉션 존재 확인\n",
    "\n",
    "    if context_exists:\n",
    "        client.delete_collection('context')\n",
    "        print(\"기존 컬렉션 삭제완료\")\n",
    "    else:\n",
    "        print(\"컬렉션이 없습니다\")\n",
    "\n",
    "    collections = client.list_collections()  # 컬렉션 목록 업데이트\n",
    "    context_exists = \"context\" in [collection.name for collection in collections]\n",
    "\n",
    "    if context_exists:\n",
    "        print(\"컬렉션이 이미 있습니다.\")\n",
    "    else:\n",
    "        collection = client.create_collection(name='context')\n",
    "        print(\"컬렉션 생성 완료\")\n",
    "        return collection\n",
    "\n",
    "collection = chaek_collection(collections)"
   ]
  },
  {
   "cell_type": "code",
   "execution_count": 23,
   "metadata": {},
   "outputs": [],
   "source": [
    "# 문서 임베딩하고 컬렉션에 저장\n",
    "for i, d in enumerate(news_df['context']):\n",
    "  embedding = get_embedding(d)\n",
    "  collection.add(\n",
    "    ids=[str(i)],\n",
    "    embeddings = [embedding],\n",
    "    documents=[d]\n",
    "  )"
   ]
  },
  {
   "cell_type": "code",
   "execution_count": 35,
   "metadata": {},
   "outputs": [
    {
     "data": {
      "text/plain": [
       "'2024년 5월 17일 에스앤디의 기사입니다. 삼천당제약·에스앤디 등 상위권  [서울경제]  미래에셋증권에서 거래하는 고수익 투자자들이 17일 오전 가장 많이 순매수한 종목은 퓨처켐으로 나타났다. 삼천당제약(000250), 에스앤디(260970), HD현대중공업(329180) 등도 순매수 상위권에 올랐다.  이날 미래에셋증권에 따르면 미래에셋증권 주식 거래 고객 중 최근 1개월 간 투자수익률 상위 1%에 해당하는 ‘주식 초고수’들이 오전 11시까지 가장 많이 사들인 종목은 퓨쳐켐으로 집계됐다.  이날 오전 11시께 퓨쳐켐의 주가는 전 거래일 대비 350원(2.59%) 상승한 1만 3870원에 거래되고 있다. 퓨쳐켐은 방사성의약품 분야에서 20년 이상 경력을 갖춘 기업이다. 현재 생산 중인 방사성의약품은 파킨슨병, 알츠하이머, 암 진단에 쓰인다. 퓨쳐켐은 최근 전립선암 치료제 임상 2상을 시작했다고 밝혔다. 전립선암 환자는 미국에서만 연간 27만 명에 달하는 만큼 신약 개발에 대한 기대감이 커져 매수세가 몰린 것으로 풀이된다.  퓨쳐켐은 거세저항성 전이 환자를 대상으로 하는 전립선암 치료제 FC705가 미국 임상 2a상 시험의 첫 환자 투여를 시작했다. 퓨쳐켐의 FC705는 절반의 투여량으로 피폭 등의 부작용은 최소화하면서 경쟁 약물 대비 높은 종양 섭취율로 치료 효과를 최대화하는 \\'계열 내 최고(Best-in-class)\\' 신약을 목표로 개발 중인 전립선암 치료제다. 앞서 임상 1상에서는 환자가 치료에 반응하는 비율인 객관적 반응률(ORR)과 질병통제율(DCR)이 100%로 나타났다.  순매수 2위에는 삼천당제약이 이름을 올렸다. 삼천당제약의 주가는 전 거래일 대비 4400원(3.96%) 오른 11만 5400원에 거래되고 있다. 삼천당제약은 지난 10일 경기도 화성 향남 공장에서 다회용 점안제 복제약 미국 수출 기념식을 진행했. 국내 제약사가 다회용 점안제를 미국에 수출하는 것은 이번이 처음이다. 삼천당제약이 자체 개발하고 미국 cGMP 인증을 받은 향남 공장에서 직접 생산한 다회용 녹내장 점안제는 미국에서 연간 4000억 이상 판매되는 제품이다.  순매수 3위는 식품 전문 업체 에스앤디다. K푸드의 글로벌 확대에 수혜를 받을 것이라는 기대감에 매수세가 몰린 것으로 분석된다. 에스앤디의 1분기 매출액은 전년 동기 대비 30.7% 증가한 238억원, 같은 기간 영업이익은 72.2% 증가한 35억원을 기록했다. 박종선 유진투자증권 연구원은 “2분기 실적 또한 분기 최고 매출액을 달성할 것으로 예상한다”며 “글로벌 K푸드 열풍 확대에 따른 수출이 크게 증가할 것\"이라고 내다봤다.  이날 순매도 상위권에는 효성중공업(298040), 효성티앤씨(298020), 코미코(183300), 한미반도체(042700) 등이 차지했다. HLB(028300)도 순매도 6위를 기록했다. 효성중공업이 전력기기로 대표되는 중공업 부문과 건설 부문의 분리를 추진한다는 소식에 주가가 급등하며 투자자들이 차익 실현에 나선 것으로 풀이된다. 중공업과 건설 부문 중 한 곳을 인적분할하는 방식으로, 중공업 부문이 존속법인으로 건설업 부문이 신설법인으로 가는 구조가 유력한 것으로 알려졌다. 다만 효성그룹은 “효성중공업을 중공업 부문과 건설 부문으로 분리하는 방안을 검토하고 있지 않다”고 밝혔다.  이날 HLB는 개장 직후 가격하한폭까지 급락했다. 전날 HLB의 시가총액은 약 12조 5335억 원이었으나 이날 하한가를 기록하면서 시총은 4조 가량 증발했다. HLB의 개장 직후 시총은 8조 7787억 원이다. HLB의 간암 신약인 리보세라닙은 FDA로부터 보완 요구를 받은 것으로 전해졌다. 서류 제출 과정과 우크라이나 전쟁으로 백인 환자 임상 실사를 진행하지 못하면서 미승인된 것으로 알려졌다.  미래에셋증권은 자사 고객 중에서 지난 1개월간 수익률 상위 1% 투자자들의 매매 종목을 집계해 실시간·전일·최근 5일 기준으로 모바일트레이딩시스템(MTS)상에서 공개하고 있다. 이 통계 데이터는 미래에셋증권의 의견과 무관한 단순 정보 안내이며 각각의 투자자 개인에게 맞는 투자 또는 수익 달성을 보장하지 않는다. 또 테마주 관련종목은 이상 급등락 가능성이 있으므로 유의해야 한다.'"
      ]
     },
     "execution_count": 35,
     "metadata": {},
     "output_type": "execute_result"
    }
   ],
   "source": [
    "news_df['context'][0]"
   ]
  },
  {
   "cell_type": "code",
   "execution_count": 36,
   "metadata": {},
   "outputs": [
    {
     "data": {
      "text/plain": [
       "['2024년 5월 17일 에스앤디의 기사입니다. 삼천당제약·에스앤디 등 상위권  [서울경제]  미래에셋증권에서 거래하는 고수익 투자자들이 17일 오전 가장 많이 순매수한 종목은 퓨처켐으로 나타났다. 삼천당제약(000250), 에스앤디(260970), HD현대중공업(329180) 등도 순매수 상위권에 올랐다.  이날 미래에셋증권에 따르면 미래에셋증권 주식 거래 고객 중 최근 1개월 간 투자수익률 상위 1%에 해당하는 ‘주식 초고수’들이 오전 11시까지 가장 많이 사들인 종목은 퓨쳐켐으로 집계됐다.  이날 오전 11시께 퓨쳐켐의 주가는 전 거래일 대비 350원(2.59%) 상승한 1만 3870원에 거래되고 있다. 퓨쳐켐은 방사성의약품 분야에서 20년 이상 경력을 갖춘 기업이다. 현재 생산 중인 방사성의약품은 파킨슨병, 알츠하이머, 암 진단에 쓰인다. 퓨쳐켐은 최근 전립선암 치료제 임상 2상을 시작했다고 밝혔다. 전립선암 환자는 미국에서만 연간 27만 명에 달하는 만큼 신약 개발에 대한 기대감이 커져 매수세가 몰린 것으로 풀이된다.  퓨쳐켐은 거세저항성 전이 환자를 대상으로 하는 전립선암 치료제 FC705가 미국 임상 2a상 시험의 첫 환자 투여를 시작했다. 퓨쳐켐의 FC705는 절반의 투여량으로 피폭 등의 부작용은 최소화하면서 경쟁 약물 대비 높은 종양 섭취율로 치료 효과를 최대화하는 \\'계열 내 최고(Best-in-class)\\' 신약을 목표로 개발 중인 전립선암 치료제다. 앞서 임상 1상에서는 환자가 치료에 반응하는 비율인 객관적 반응률(ORR)과 질병통제율(DCR)이 100%로 나타났다.  순매수 2위에는 삼천당제약이 이름을 올렸다. 삼천당제약의 주가는 전 거래일 대비 4400원(3.96%) 오른 11만 5400원에 거래되고 있다. 삼천당제약은 지난 10일 경기도 화성 향남 공장에서 다회용 점안제 복제약 미국 수출 기념식을 진행했. 국내 제약사가 다회용 점안제를 미국에 수출하는 것은 이번이 처음이다. 삼천당제약이 자체 개발하고 미국 cGMP 인증을 받은 향남 공장에서 직접 생산한 다회용 녹내장 점안제는 미국에서 연간 4000억 이상 판매되는 제품이다.  순매수 3위는 식품 전문 업체 에스앤디다. K푸드의 글로벌 확대에 수혜를 받을 것이라는 기대감에 매수세가 몰린 것으로 분석된다. 에스앤디의 1분기 매출액은 전년 동기 대비 30.7% 증가한 238억원, 같은 기간 영업이익은 72.2% 증가한 35억원을 기록했다. 박종선 유진투자증권 연구원은 “2분기 실적 또한 분기 최고 매출액을 달성할 것으로 예상한다”며 “글로벌 K푸드 열풍 확대에 따른 수출이 크게 증가할 것\"이라고 내다봤다.  이날 순매도 상위권에는 효성중공업(298040), 효성티앤씨(298020), 코미코(183300), 한미반도체(042700) 등이 차지했다. HLB(028300)도 순매도 6위를 기록했다. 효성중공업이 전력기기로 대표되는 중공업 부문과 건설 부문의 분리를 추진한다는 소식에 주가가 급등하며 투자자들이 차익 실현에 나선 것으로 풀이된다. 중공업과 건설 부문 중 한 곳을 인적분할하는 방식으로, 중공업 부문이 존속법인으로 건설업 부문이 신설법인으로 가는 구조가 유력한 것으로 알려졌다. 다만 효성그룹은 “효성중공업을 중공업 부문과 건설 부문으로 분리하는 방안을 검토하고 있지 않다”고 밝혔다.  이날 HLB는 개장 직후 가격하한폭까지 급락했다. 전날 HLB의 시가총액은 약 12조 5335억 원이었으나 이날 하한가를 기록하면서 시총은 4조 가량 증발했다. HLB의 개장 직후 시총은 8조 7787억 원이다. HLB의 간암 신약인 리보세라닙은 FDA로부터 보완 요구를 받은 것으로 전해졌다. 서류 제출 과정과 우크라이나 전쟁으로 백인 환자 임상 실사를 진행하지 못하면서 미승인된 것으로 알려졌다.  미래에셋증권은 자사 고객 중에서 지난 1개월간 수익률 상위 1% 투자자들의 매매 종목을 집계해 실시간·전일·최근 5일 기준으로 모바일트레이딩시스템(MTS)상에서 공개하고 있다. 이 통계 데이터는 미래에셋증권의 의견과 무관한 단순 정보 안내이며 각각의 투자자 개인에게 맞는 투자 또는 수익 달성을 보장하지 않는다. 또 테마주 관련종목은 이상 급등락 가능성이 있으므로 유의해야 한다.',\n",
       " '2024년 6월 13일 에스앤디의 기사입니다. [이데일리 김보겸 기자] KB증권은 에스앤디(260970)에 대해 불닭볶음면 열풍으로 주요 고객사인 삼양식품(003230)과 동반 성장하고 있다고 평가했다. 일반기능식품소재 사업 다변화 역시 성장 모멘텀이 될 것이란 기대다. 재무구조도 양호하며 동종업체 대비 저평가된 종목으로 주목했다.    임상국 KB증권 연구원은 “비수기에도 불구하고 1분기 실적은 매출액 238억원, 영업이익 35억원으로 전년동기 대비 각각 30.8%, 72.2% 성장하며 실적 호조세가 이어졌다”고 밝혔다.  에스앤디는 일반기능식품 및 건강기능식품 소재를 생산하는 기업으로 2021년 9월 코넥스에서 코스닥 시장으로 이전 상장했다. 삼양식품(003230) 농심(004370) 풀무원(017810) CJ제일제당(097950) 등 약 158개의 고객사를 보유하고 있으며 230여종의 식품 소재를 생산하고 있다.  K-푸드 열풍에 힘입어 주요 고객사와 동반 성장하고 있다는 데 임 연구원은 주목했다. 삼양식품의 불닭시리즈가 중국, 동남아, 미국을 중심으로 매출액이 지속 증가하고 있으며 이는 불닭시리즈 액상, 분말 스프의 핵심 원료를 독점 공급하는 에스앤디의 동반 성장으로 이어지고 있다는 것이다.  임 연구원은 “글로벌 K-푸드, 특히 불닭 시리즈 열풍이 이어지며 불닭볶음면 소스 핵심 원료 매출이 전년 대비 42.7% 증가한 것”이라며 “영업이익률도 2023년 1분기 11.2%에서 14.8%로 큰 폭 상승했다”고 했다.  일반기능식품 소재 사업을 다변화하면서 차기 성장 모멘텀도 확보했다고 봤다. 임 연구원은 “기존 식품 소재 사업을 바탕으로 부가가치가 높은 간편식, 조미료 등 완제품 출시를 통해 시장 트렌드 변화에 탄력적으로 대응하며 또 다른 성장 모멘텀으로 작용할 수 있다”고 짚었다.  2024년 1분기 말 기준 유보율은 4305%, 자기자본이익률(ROE)은 12.7%, 현금성자산은 약 620억원, 무차입 경영 등으로 재무구조도 양호하다. 주가수익비율(PER)은 8.1배 수준으로 동종 업체(16.1배) 대비 저평가 상태다.미국 5월 CPI 둔화 및 6월 FOMC 소화 외국인 1736억 ‘사자’ vs 기관 1885억 ‘팔자’ 통신장비 2%, 디지털컨텐츠 1% 상승 중앙첨단소재 24%, 와이씨 17%대↑ [이데일리 김응태 기자] 코스닥이 외국인의 주도적인 매수세에 힘입어 상승 마감했다.  13일 마켓포인트에 따르면 코스닥 지수는 전거래일 대비 0.66포인트(0.08%) 상승한 871.33으로 마감했다. 이날 코스닥은 870선에서 1%대 상승 출발해 880선 돌파를 넘봤지만, 장 후반 바이오주를 중심으로 차익실현 물량이 일부 출회되면서 870선을 가까스로 사수했다.  간밤 뉴욕증시는 다우존스 지수를 제외하고 상승 마감했다. 뉴욕증권거래소(NYSE)에서 다우존스30산업평균지수는 전장보다 0.09% 하락한 3만8712.21을 기록했다. 스탠더드앤드푸어스(S&P)500지수는 전거래일 대비 0.85% 오른 5421.03으로 집계됐다. 기술주 중심의 나스닥 지수는 1.53% 뛴 1만7608.44에 장을 마쳤다.  미국의 5월 소비자물가지수(CPI)가 둔화세를 보이며 나스닥이 1% 넘게 상승하자 코스닥 시장도 투자심리가 개선되며 상승 마감한 것으로 풀이된다. 이경민 대신증권 연구원은 “전일 진행된 미 연방준비제도(Fed·연준) 연방공개시장위원회(FOMC)에서 연내 1회 금리 인하를 시사하는 점도표가 발표됐으나, 시장은 회의 이전 발표된 CPI 물가 둔화에 더욱 긍정적으로 반응했다”고 분석했다.  수급별로는 외국인이 1736억원, 개인이 171억원 순매수했다. 반면 기관은 1885억원 순매도했다.  프로그램별로는 차익과 비차익을 합쳐 261억원 매수 우위를 기록했다.  업종별로 희비가 엇갈렸다. 통신장비(2.61%)는 2%대 강세를 나타냈다. 디지털컨텐츠(0.96%), 비금속(0.86%), 출판·매체복제(0.84%), 유통(0.87%), 음식료·담배(0.78%), 금속(0.73%), 섬유·의류(0.63%), 의료·정밀기기(0.59%) 등은 1% 미만 소폭 올랐다. 반면 기타제조(2.15%)는 2%대 하락했다. 방송서비스(1.25%), 종이·목재(1.25%), 기타서비스(1.13%) 등은 1%대 하락했다.  시가총액 상위주도 종목에 따라 등락 흐름이 갈렸다. 중앙첨단소재(051980)는 24% 넘게 급등했다. 와이씨(232140)는 17% 상승했다. 브이티(018290)는 8%, 펄어비스(263750)는 5%대 각각 올랐다. HLB(028300)도 4%대 상승세를 나타냈다. 이와 달리 대주전자재료(078600)는 6% 넘게 급락했다. 휴젤(145020), 리가켐바이오(141080), 티씨케이(064760) 등은 3%대 하락했다.  주요 종목 중에선 에스앤디(260970)가 불닭볶음면 소스 제조사라는 점이 부각하면서 상한가를 기록했다. 하반기 화장품 수출 확대 전망에 힘이 실리면서 마녀공장(439090)은 20%, 선진뷰티사이언스(086710)는 9% 넘게 올랐다.  이날 거래량은 9억979만주, 거래대금은 10조2776억원으로 집계됐다. 713개 종목이 상승했으며, 2개 종목은 상한가를 달성했다. 823개 종목은 하락했으며, 하한가를 기록한 종목은 없었다. 114개 종목은 보합권에 머물렀다.']"
      ]
     },
     "execution_count": 36,
     "metadata": {},
     "output_type": "execute_result"
    }
   ],
   "source": [
    "client.get_collection(\"context\").get()['documents']"
   ]
  },
  {
   "cell_type": "code",
   "execution_count": 40,
   "metadata": {},
   "outputs": [],
   "source": [
    "# 컬렉션 쿼리 함수화\n",
    "def query_collection(collection, embedding):\n",
    "    results = collection.query(\n",
    "        query_embeddings=[embedding],\n",
    "        n_results=1\n",
    "    )\n",
    "    return results['documents'][0][0]"
   ]
  },
  {
   "cell_type": "code",
   "execution_count": 41,
   "metadata": {},
   "outputs": [
    {
     "data": {
      "text/plain": [
       "'2024년 6월 13일 에스앤디의 기사입니다. [이데일리 김보겸 기자] KB증권은 에스앤디(260970)에 대해 불닭볶음면 열풍으로 주요 고객사인 삼양식품(003230)과 동반 성장하고 있다고 평가했다. 일반기능식품소재 사업 다변화 역시 성장 모멘텀이 될 것이란 기대다. 재무구조도 양호하며 동종업체 대비 저평가된 종목으로 주목했다.    임상국 KB증권 연구원은 “비수기에도 불구하고 1분기 실적은 매출액 238억원, 영업이익 35억원으로 전년동기 대비 각각 30.8%, 72.2% 성장하며 실적 호조세가 이어졌다”고 밝혔다.  에스앤디는 일반기능식품 및 건강기능식품 소재를 생산하는 기업으로 2021년 9월 코넥스에서 코스닥 시장으로 이전 상장했다. 삼양식품(003230) 농심(004370) 풀무원(017810) CJ제일제당(097950) 등 약 158개의 고객사를 보유하고 있으며 230여종의 식품 소재를 생산하고 있다.  K-푸드 열풍에 힘입어 주요 고객사와 동반 성장하고 있다는 데 임 연구원은 주목했다. 삼양식품의 불닭시리즈가 중국, 동남아, 미국을 중심으로 매출액이 지속 증가하고 있으며 이는 불닭시리즈 액상, 분말 스프의 핵심 원료를 독점 공급하는 에스앤디의 동반 성장으로 이어지고 있다는 것이다.  임 연구원은 “글로벌 K-푸드, 특히 불닭 시리즈 열풍이 이어지며 불닭볶음면 소스 핵심 원료 매출이 전년 대비 42.7% 증가한 것”이라며 “영업이익률도 2023년 1분기 11.2%에서 14.8%로 큰 폭 상승했다”고 했다.  일반기능식품 소재 사업을 다변화하면서 차기 성장 모멘텀도 확보했다고 봤다. 임 연구원은 “기존 식품 소재 사업을 바탕으로 부가가치가 높은 간편식, 조미료 등 완제품 출시를 통해 시장 트렌드 변화에 탄력적으로 대응하며 또 다른 성장 모멘텀으로 작용할 수 있다”고 짚었다.  2024년 1분기 말 기준 유보율은 4305%, 자기자본이익률(ROE)은 12.7%, 현금성자산은 약 620억원, 무차입 경영 등으로 재무구조도 양호하다. 주가수익비율(PER)은 8.1배 수준으로 동종 업체(16.1배) 대비 저평가 상태다.미국 5월 CPI 둔화 및 6월 FOMC 소화 외국인 1736억 ‘사자’ vs 기관 1885억 ‘팔자’ 통신장비 2%, 디지털컨텐츠 1% 상승 중앙첨단소재 24%, 와이씨 17%대↑ [이데일리 김응태 기자] 코스닥이 외국인의 주도적인 매수세에 힘입어 상승 마감했다.  13일 마켓포인트에 따르면 코스닥 지수는 전거래일 대비 0.66포인트(0.08%) 상승한 871.33으로 마감했다. 이날 코스닥은 870선에서 1%대 상승 출발해 880선 돌파를 넘봤지만, 장 후반 바이오주를 중심으로 차익실현 물량이 일부 출회되면서 870선을 가까스로 사수했다.  간밤 뉴욕증시는 다우존스 지수를 제외하고 상승 마감했다. 뉴욕증권거래소(NYSE)에서 다우존스30산업평균지수는 전장보다 0.09% 하락한 3만8712.21을 기록했다. 스탠더드앤드푸어스(S&P)500지수는 전거래일 대비 0.85% 오른 5421.03으로 집계됐다. 기술주 중심의 나스닥 지수는 1.53% 뛴 1만7608.44에 장을 마쳤다.  미국의 5월 소비자물가지수(CPI)가 둔화세를 보이며 나스닥이 1% 넘게 상승하자 코스닥 시장도 투자심리가 개선되며 상승 마감한 것으로 풀이된다. 이경민 대신증권 연구원은 “전일 진행된 미 연방준비제도(Fed·연준) 연방공개시장위원회(FOMC)에서 연내 1회 금리 인하를 시사하는 점도표가 발표됐으나, 시장은 회의 이전 발표된 CPI 물가 둔화에 더욱 긍정적으로 반응했다”고 분석했다.  수급별로는 외국인이 1736억원, 개인이 171억원 순매수했다. 반면 기관은 1885억원 순매도했다.  프로그램별로는 차익과 비차익을 합쳐 261억원 매수 우위를 기록했다.  업종별로 희비가 엇갈렸다. 통신장비(2.61%)는 2%대 강세를 나타냈다. 디지털컨텐츠(0.96%), 비금속(0.86%), 출판·매체복제(0.84%), 유통(0.87%), 음식료·담배(0.78%), 금속(0.73%), 섬유·의류(0.63%), 의료·정밀기기(0.59%) 등은 1% 미만 소폭 올랐다. 반면 기타제조(2.15%)는 2%대 하락했다. 방송서비스(1.25%), 종이·목재(1.25%), 기타서비스(1.13%) 등은 1%대 하락했다.  시가총액 상위주도 종목에 따라 등락 흐름이 갈렸다. 중앙첨단소재(051980)는 24% 넘게 급등했다. 와이씨(232140)는 17% 상승했다. 브이티(018290)는 8%, 펄어비스(263750)는 5%대 각각 올랐다. HLB(028300)도 4%대 상승세를 나타냈다. 이와 달리 대주전자재료(078600)는 6% 넘게 급락했다. 휴젤(145020), 리가켐바이오(141080), 티씨케이(064760) 등은 3%대 하락했다.  주요 종목 중에선 에스앤디(260970)가 불닭볶음면 소스 제조사라는 점이 부각하면서 상한가를 기록했다. 하반기 화장품 수출 확대 전망에 힘이 실리면서 마녀공장(439090)은 20%, 선진뷰티사이언스(086710)는 9% 넘게 올랐다.  이날 거래량은 9억979만주, 거래대금은 10조2776억원으로 집계됐다. 713개 종목이 상승했으며, 2개 종목은 상한가를 달성했다. 823개 종목은 하락했으며, 하한가를 기록한 종목은 없었다. 114개 종목은 보합권에 머물렀다.'"
      ]
     },
     "execution_count": 41,
     "metadata": {},
     "output_type": "execute_result"
    }
   ],
   "source": [
    "quetion = \"에스앤디 2024년 5월 17일 기사 내용\"\n",
    "embedding = get_embedding(quetion)\n",
    "data = query_collection(collection, embedding)\n",
    "data"
   ]
  },
  {
   "cell_type": "code",
   "execution_count": 46,
   "metadata": {},
   "outputs": [
    {
     "name": "stdout",
     "output_type": "stream",
     "text": [
      "2024년 5월 17일 뉴스는 다음과 같은 주요 소식을 담고 있습니다.\n",
      "\n",
      "* **美 증시, CPI 물가둔화에 긍정적 반응**: 미국 5월 소비자물가지수(CPI)가 둔화세를 보이며 나스닥 지수는 1% 이상 상승했습니다. 이는 미 연방준비제도(Fed·연준) 연방공개시장위원회(FOMC)에서 연내 한번 금리 인하를 시사하는 점표가 발표되었음에도 불구하고, 시장은 물가 둔화에 더욱 큰 반응을 보였다는 것을 나타냅니다.\n",
      "* **코스닥 상승 마감**: 미 증시의 CPI 둔화세와 연준 금리 인하 시사에 따라 코스닥도 투자심리가 개선되면서 상승 마감했습니다.\n",
      "* **외국인 순매수, 기관은 순매도**: 수급별로 외국인이 1736억원, 개인이 171억원 순매수를 기록했지만, 기관은 1885억원 순매도했습니다.\n",
      "* **업종별 희비가 엇갈림**: 통신장비(2.61%)가 강세를 보였고, 디지털컨텐츠, 비금속 등이 소폭 상승했으며, 반면 기타제조(2.15%), 방송서비스(1.25%) 등은 하락했습니다.\n",
      "\n",
      "\n",
      "* **시가총액 상위주, 종목별 등락 흐름 갈림**: 중앙첨단소재(24%↑)와 와이씨(17%↑), 브이티(8%), 펄어비스(5%)는 상승했지만, 대주전자재료(6%↓), 휴젤(3%↓), 리가켐바이오(3%↓) 등은 하락했습니다.\n",
      "* **에스앤디, 불닭볶음면 소스 제조사라는 점이 부각되면서 상한가**: 화장품 수출 확대 전망에 힘입어 마녀공장(20%↑)과 선진뷰티사이언스(9%↑)도 상승했습니다.\n",
      "\n",
      "\n",
      "\n",
      "\n",
      "\n"
     ]
    }
   ],
   "source": [
    "from langchain_core.prompts import ChatPromptTemplate\n",
    "from langchain_core.output_parsers import StrOutputParser\n",
    "from langchain_community.chat_models import ChatOllama\n",
    "\n",
    "# Prompt 템플릿 정의\n",
    "prompt = ChatPromptTemplate.from_messages([\n",
    "    (\"system\", \"이 시스템 이름은 InbestBot 입니다. {ability} 분석 전문 시스템 입니다. 한국인 '{username}'님에게 주식명을 입력받아 간단한 정보를 제공합니다. 단발성 대화입니다.\"),\n",
    "    (\"user\", \"{stock} 종목 통합 기사: {all_context}. / 질문 : {question}\"),\n",
    "])\n",
    "\n",
    "# 출력 파서 정의\n",
    "output_parser = StrOutputParser()\n",
    "\n",
    "# 모델 정의\n",
    "llm = ChatOllama(model='gemma2')\n",
    "\n",
    "# 체인 구성\n",
    "chain = prompt | llm | output_parser\n",
    "\n",
    "# 질문을 정의\n",
    "question = f\"2024년 5월 17일 뉴스 내용에서 주요 소식을 알려주세요\"\n",
    "\n",
    "# 체인 호출\n",
    "response = chain.invoke(\n",
    "    {\"stock\": \"에스앤디\", \"ability\": \"주식\", \"username\": \"문영식\", \"all_context\": all_context, \"question\": question},   \n",
    ")\n",
    "\n",
    "# 결과 출력\n",
    "print(response)\n",
    "\n"
   ]
  },
  {
   "cell_type": "code",
   "execution_count": 1,
   "metadata": {},
   "outputs": [
    {
     "name": "stderr",
     "output_type": "stream",
     "text": [
      "2024-08-20 05:05:35.290510: I tensorflow/core/util/port.cc:153] oneDNN custom operations are on. You may see slightly different numerical results due to floating-point round-off errors from different computation orders. To turn them off, set the environment variable `TF_ENABLE_ONEDNN_OPTS=0`.\n",
      "2024-08-20 05:05:35.292064: I external/local_xla/xla/tsl/cuda/cudart_stub.cc:32] Could not find cuda drivers on your machine, GPU will not be used.\n",
      "2024-08-20 05:05:35.296345: I external/local_xla/xla/tsl/cuda/cudart_stub.cc:32] Could not find cuda drivers on your machine, GPU will not be used.\n",
      "2024-08-20 05:05:35.308771: E external/local_xla/xla/stream_executor/cuda/cuda_fft.cc:485] Unable to register cuFFT factory: Attempting to register factory for plugin cuFFT when one has already been registered\n",
      "2024-08-20 05:05:35.330078: E external/local_xla/xla/stream_executor/cuda/cuda_dnn.cc:8454] Unable to register cuDNN factory: Attempting to register factory for plugin cuDNN when one has already been registered\n",
      "2024-08-20 05:05:35.336308: E external/local_xla/xla/stream_executor/cuda/cuda_blas.cc:1452] Unable to register cuBLAS factory: Attempting to register factory for plugin cuBLAS when one has already been registered\n",
      "2024-08-20 05:05:35.351982: I tensorflow/core/platform/cpu_feature_guard.cc:210] This TensorFlow binary is optimized to use available CPU instructions in performance-critical operations.\n",
      "To enable the following instructions: AVX2 AVX512F AVX512_VNNI FMA, in other operations, rebuild TensorFlow with the appropriate compiler flags.\n",
      "2024-08-20 05:05:36.496477: W tensorflow/compiler/tf2tensorrt/utils/py_utils.cc:38] TF-TRT Warning: Could not find TensorRT\n"
     ]
    },
    {
     "name": "stdout",
     "output_type": "stream",
     "text": [
      "/home/alpaco/chs/data/model/02_LSTM/ckeckpointer.weights.h5\n"
     ]
    },
    {
     "name": "stderr",
     "output_type": "stream",
     "text": [
      "/home/alpaco/anaconda3/envs/inbest/lib/python3.10/site-packages/keras/src/layers/convolutional/base_conv.py:107: UserWarning: Do not pass an `input_shape`/`input_dim` argument to a layer. When using Sequential models, prefer using an `Input(shape)` object as the first layer in the model instead.\n",
      "  super().__init__(activity_regularizer=activity_regularizer, **kwargs)\n",
      "WARNING: All log messages before absl::InitializeLog() is called are written to STDERR\n",
      "I0000 00:00:1724097937.595924  176018 cuda_executor.cc:1015] successful NUMA node read from SysFS had negative value (-1), but there must be at least one NUMA node, so returning NUMA node zero. See more at https://github.com/torvalds/linux/blob/v6.0/Documentation/ABI/testing/sysfs-bus-pci#L344-L355\n",
      "2024-08-20 05:05:37.633498: W tensorflow/core/common_runtime/gpu/gpu_device.cc:2343] Cannot dlopen some GPU libraries. Please make sure the missing libraries mentioned above are installed properly if you would like to use GPU. Follow the guide at https://www.tensorflow.org/install/gpu for how to download and setup the required libraries for your platform.\n",
      "Skipping registering GPU devices...\n",
      "/home/alpaco/anaconda3/envs/inbest/lib/python3.10/site-packages/keras/src/layers/convolutional/base_conv.py:107: UserWarning: Do not pass an `input_shape`/`input_dim` argument to a layer. When using Sequential models, prefer using an `Input(shape)` object as the first layer in the model instead.\n",
      "  super().__init__(activity_regularizer=activity_regularizer, **kwargs)\n"
     ]
    },
    {
     "data": {
      "image/png": "[encoded data removed]",
      "text/plain": [
       "<Figure size 1000x500 with 1 Axes>"
      ]
     },
     "metadata": {},
     "output_type": "display_data"
    }
   ],
   "source": [
    "import numpy as np\n",
    "import pandas as pd\n",
    "import matplotlib.pyplot as plt\n",
    "from sklearn.preprocessing import MinMaxScaler\n",
    "from tensorflow.keras.models import load_model\n",
    "import FinanceDataReader as fdr\n",
    "from datetime import timedelta\n",
    "import os\n",
    "from tensorflow.keras.models import Sequential\n",
    "from tensorflow.keras.layers import Dense, LSTM, Conv1D, Lambda\n",
    "STOCK_CODE = '110020'\n",
    "df = fdr.DataReader(STOCK_CODE)\n",
    "WINDOW_SIZE=20\n",
    "filename = os.path.join('/home/alpaco/chs/data/model/02_LSTM', 'ckeckpointer.weights.h5')  # Change the filename here\n",
    "print(filename)\n",
    "\n",
    "model = Sequential([\n",
    "# 1차원 feature map 생성\n",
    "Conv1D(filters=32, kernel_size=5,\n",
    "    padding=\"causal\",\n",
    "    activation=\"relu\",\n",
    "    input_shape=[WINDOW_SIZE, 1]),\n",
    "# LSTM\n",
    "LSTM(16, activation='tanh'),\n",
    "Dense(16, activation=\"relu\"),\n",
    "Dense(1),\n",
    "])\n",
    "\n",
    "model.load_weights(filename)  # 학습한 모델 파일 로드\n",
    "\n",
    "def new_func(df, filename):\n",
    "    def plot_predict_chart(df):\n",
    "        WINDOW_SIZE=20\n",
    "\n",
    "    # 종가 데이터만 사용\n",
    "        data = df['Close'].values\n",
    "        data = data.reshape(-1, 1)\n",
    "\n",
    "    # 이전에 학습된 스케일러와 동일한 범위로 정규화\n",
    "        scaler = MinMaxScaler(feature_range=(0, 1))\n",
    "        scaled_data = scaler.fit_transform(data)\n",
    "\n",
    "    # 모델이 학습한 타임 스텝\n",
    "        time_step = 20\n",
    "\n",
    "    # 테스트 데이터셋 준비\n",
    "        test_data = scaled_data[-time_step:]\n",
    "        test_data = test_data.reshape(1, -1)\n",
    "        temp_input = list(test_data)\n",
    "        temp_input = temp_input[0].tolist()\n",
    "\n",
    "        model = Sequential([\n",
    "        # 1차원 feature map 생성\n",
    "        Conv1D(filters=32, kernel_size=5,\n",
    "            padding=\"causal\",\n",
    "            activation=\"relu\",\n",
    "            input_shape=[WINDOW_SIZE, 1]),\n",
    "        # LSTM\n",
    "        LSTM(16, activation='tanh'),\n",
    "        Dense(16, activation=\"relu\"),\n",
    "        Dense(1),\n",
    "    ])\n",
    "    \n",
    "        model.load_weights(filename)  # 학습한 모델 파일 로드\n",
    "\n",
    "    # 향후 10일간 예측\n",
    "        lst_output = []\n",
    "        n_steps = time_step\n",
    "        i = 0\n",
    "        while i < 10:\n",
    "            if len(temp_input) > time_step:\n",
    "                x_input = np.array(temp_input[-time_step:])  # 최신 60일 데이터만 사용하도록 수정\n",
    "                x_input = x_input.reshape((1, n_steps, 1))\n",
    "            else:\n",
    "                x_input = np.array(temp_input)\n",
    "                x_input = x_input.reshape((1, n_steps, 1))\n",
    "\n",
    "            yhat = model.predict(x_input, verbose=0)\n",
    "            temp_input.extend(yhat[0].tolist())\n",
    "            lst_output.extend(yhat.tolist())\n",
    "            i += 1\n",
    "\n",
    "    # 결과를 원래 스케일로 되돌림\n",
    "        predicted_stock_price = scaler.inverse_transform(lst_output)\n",
    "\n",
    "    # 예측 결과 출력\n",
    "        predicted_stock_price = scaler.inverse_transform(lst_output)\n",
    "\n",
    "    # 예측 결과를 pandas Series로 변환 (날짜 인덱스 추가)\n",
    "        last_date = df.index[-1]\n",
    "        forecast_dates = [last_date + timedelta(days=i+1) for i in range(10)]\n",
    "        forecast_series = pd.Series(predicted_stock_price.flatten(), index=forecast_dates)\n",
    "\n",
    "    # 예측 결과 시각화 (2024년 이후 데이터만 포함)\n",
    "        df_new = df[-50:]\n",
    "        plt.figure(figsize=(10, 5))\n",
    "        plt.plot(df_new['Close'], label='Actual Prices (2024)', color='blue')\n",
    "        plt.plot(forecast_series, label='Forecasted Prices', color='red')\n",
    "        plt.xlabel('Date')\n",
    "        plt.ylabel('Stock Price')\n",
    "        plt.title(f'Stock Price Prediction for Next 10 Days (2024)')\n",
    "        plt.legend()\n",
    "        plt.show()\n",
    "    plot_predict_chart(df)\n",
    "\n",
    "new_func(df, filename)"
   ]
  }
 ],
 "metadata": {
  "kernelspec": {
   "display_name": "moon_mys",
   "language": "python",
   "name": "python3"
  },
  "language_info": {
   "codemirror_mode": {
    "name": "ipython",
    "version": 3
   },
   "file_extension": ".py",
   "mimetype": "text/x-python",
   "name": "python",
   "nbconvert_exporter": "python",
   "pygments_lexer": "ipython3",
   "version": "3.10.13"
  }
 },
 "nbformat": 4,
 "nbformat_minor": 2
}
